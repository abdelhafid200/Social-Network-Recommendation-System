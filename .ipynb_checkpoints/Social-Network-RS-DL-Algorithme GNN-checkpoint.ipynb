{
  "nbformat": 4,
  "nbformat_minor": 0,
  "metadata": {
    "colab": {
      "provenance": [],
      "gpuType": "T4"
    },
    "kernelspec": {
      "name": "python3",
      "display_name": "Python 3"
    },
    "language_info": {
      "name": "python"
    },
    "accelerator": "GPU",
    "widgets": {
      "application/vnd.jupyter.widget-state+json": {
        "885674b52e224120836f88983369e52e": {
          "model_module": "@jupyter-widgets/controls",
          "model_name": "HBoxModel",
          "model_module_version": "1.5.0",
          "state": {
            "_dom_classes": [],
            "_model_module": "@jupyter-widgets/controls",
            "_model_module_version": "1.5.0",
            "_model_name": "HBoxModel",
            "_view_count": null,
            "_view_module": "@jupyter-widgets/controls",
            "_view_module_version": "1.5.0",
            "_view_name": "HBoxView",
            "box_style": "",
            "children": [
              "IPY_MODEL_a3a408f49df9483193cd835b79252cdc",
              "IPY_MODEL_d3bbc5ec028d4877a1d3ba310031d6f3",
              "IPY_MODEL_40ec59258abb468caa9d0415d40c712c"
            ],
            "layout": "IPY_MODEL_5204acb2411a4ecbbe2678fabc23d00c"
          }
        },
        "a3a408f49df9483193cd835b79252cdc": {
          "model_module": "@jupyter-widgets/controls",
          "model_name": "HTMLModel",
          "model_module_version": "1.5.0",
          "state": {
            "_dom_classes": [],
            "_model_module": "@jupyter-widgets/controls",
            "_model_module_version": "1.5.0",
            "_model_name": "HTMLModel",
            "_view_count": null,
            "_view_module": "@jupyter-widgets/controls",
            "_view_module_version": "1.5.0",
            "_view_name": "HTMLView",
            "description": "",
            "description_tooltip": null,
            "layout": "IPY_MODEL_cf304ed70ec34cf4b4f92fb36b8d6118",
            "placeholder": "​",
            "style": "IPY_MODEL_208864bb188d4a73ab7ada02bf57b9f2",
            "value": "100%"
          }
        },
        "d3bbc5ec028d4877a1d3ba310031d6f3": {
          "model_module": "@jupyter-widgets/controls",
          "model_name": "FloatProgressModel",
          "model_module_version": "1.5.0",
          "state": {
            "_dom_classes": [],
            "_model_module": "@jupyter-widgets/controls",
            "_model_module_version": "1.5.0",
            "_model_name": "FloatProgressModel",
            "_view_count": null,
            "_view_module": "@jupyter-widgets/controls",
            "_view_module_version": "1.5.0",
            "_view_name": "ProgressView",
            "bar_style": "success",
            "description": "",
            "description_tooltip": null,
            "layout": "IPY_MODEL_91885c82f4064c3e85f5af156c3c9cb3",
            "max": 100000,
            "min": 0,
            "orientation": "horizontal",
            "style": "IPY_MODEL_95a3957dcecb4882810a6f2e9438a821",
            "value": 100000
          }
        },
        "40ec59258abb468caa9d0415d40c712c": {
          "model_module": "@jupyter-widgets/controls",
          "model_name": "HTMLModel",
          "model_module_version": "1.5.0",
          "state": {
            "_dom_classes": [],
            "_model_module": "@jupyter-widgets/controls",
            "_model_module_version": "1.5.0",
            "_model_name": "HTMLModel",
            "_view_count": null,
            "_view_module": "@jupyter-widgets/controls",
            "_view_module_version": "1.5.0",
            "_view_name": "HTMLView",
            "description": "",
            "description_tooltip": null,
            "layout": "IPY_MODEL_fe1c3303e69a4c1286cea5d94045dc42",
            "placeholder": "​",
            "style": "IPY_MODEL_4f15b1e22d8a4428ae0f3cd1024c9631",
            "value": " 100000/100000 [00:00&lt;00:00, 254636.85it/s]"
          }
        },
        "5204acb2411a4ecbbe2678fabc23d00c": {
          "model_module": "@jupyter-widgets/base",
          "model_name": "LayoutModel",
          "model_module_version": "1.2.0",
          "state": {
            "_model_module": "@jupyter-widgets/base",
            "_model_module_version": "1.2.0",
            "_model_name": "LayoutModel",
            "_view_count": null,
            "_view_module": "@jupyter-widgets/base",
            "_view_module_version": "1.2.0",
            "_view_name": "LayoutView",
            "align_content": null,
            "align_items": null,
            "align_self": null,
            "border": null,
            "bottom": null,
            "display": null,
            "flex": null,
            "flex_flow": null,
            "grid_area": null,
            "grid_auto_columns": null,
            "grid_auto_flow": null,
            "grid_auto_rows": null,
            "grid_column": null,
            "grid_gap": null,
            "grid_row": null,
            "grid_template_areas": null,
            "grid_template_columns": null,
            "grid_template_rows": null,
            "height": null,
            "justify_content": null,
            "justify_items": null,
            "left": null,
            "margin": null,
            "max_height": null,
            "max_width": null,
            "min_height": null,
            "min_width": null,
            "object_fit": null,
            "object_position": null,
            "order": null,
            "overflow": null,
            "overflow_x": null,
            "overflow_y": null,
            "padding": null,
            "right": null,
            "top": null,
            "visibility": null,
            "width": null
          }
        },
        "cf304ed70ec34cf4b4f92fb36b8d6118": {
          "model_module": "@jupyter-widgets/base",
          "model_name": "LayoutModel",
          "model_module_version": "1.2.0",
          "state": {
            "_model_module": "@jupyter-widgets/base",
            "_model_module_version": "1.2.0",
            "_model_name": "LayoutModel",
            "_view_count": null,
            "_view_module": "@jupyter-widgets/base",
            "_view_module_version": "1.2.0",
            "_view_name": "LayoutView",
            "align_content": null,
            "align_items": null,
            "align_self": null,
            "border": null,
            "bottom": null,
            "display": null,
            "flex": null,
            "flex_flow": null,
            "grid_area": null,
            "grid_auto_columns": null,
            "grid_auto_flow": null,
            "grid_auto_rows": null,
            "grid_column": null,
            "grid_gap": null,
            "grid_row": null,
            "grid_template_areas": null,
            "grid_template_columns": null,
            "grid_template_rows": null,
            "height": null,
            "justify_content": null,
            "justify_items": null,
            "left": null,
            "margin": null,
            "max_height": null,
            "max_width": null,
            "min_height": null,
            "min_width": null,
            "object_fit": null,
            "object_position": null,
            "order": null,
            "overflow": null,
            "overflow_x": null,
            "overflow_y": null,
            "padding": null,
            "right": null,
            "top": null,
            "visibility": null,
            "width": null
          }
        },
        "208864bb188d4a73ab7ada02bf57b9f2": {
          "model_module": "@jupyter-widgets/controls",
          "model_name": "DescriptionStyleModel",
          "model_module_version": "1.5.0",
          "state": {
            "_model_module": "@jupyter-widgets/controls",
            "_model_module_version": "1.5.0",
            "_model_name": "DescriptionStyleModel",
            "_view_count": null,
            "_view_module": "@jupyter-widgets/base",
            "_view_module_version": "1.2.0",
            "_view_name": "StyleView",
            "description_width": ""
          }
        },
        "91885c82f4064c3e85f5af156c3c9cb3": {
          "model_module": "@jupyter-widgets/base",
          "model_name": "LayoutModel",
          "model_module_version": "1.2.0",
          "state": {
            "_model_module": "@jupyter-widgets/base",
            "_model_module_version": "1.2.0",
            "_model_name": "LayoutModel",
            "_view_count": null,
            "_view_module": "@jupyter-widgets/base",
            "_view_module_version": "1.2.0",
            "_view_name": "LayoutView",
            "align_content": null,
            "align_items": null,
            "align_self": null,
            "border": null,
            "bottom": null,
            "display": null,
            "flex": null,
            "flex_flow": null,
            "grid_area": null,
            "grid_auto_columns": null,
            "grid_auto_flow": null,
            "grid_auto_rows": null,
            "grid_column": null,
            "grid_gap": null,
            "grid_row": null,
            "grid_template_areas": null,
            "grid_template_columns": null,
            "grid_template_rows": null,
            "height": null,
            "justify_content": null,
            "justify_items": null,
            "left": null,
            "margin": null,
            "max_height": null,
            "max_width": null,
            "min_height": null,
            "min_width": null,
            "object_fit": null,
            "object_position": null,
            "order": null,
            "overflow": null,
            "overflow_x": null,
            "overflow_y": null,
            "padding": null,
            "right": null,
            "top": null,
            "visibility": null,
            "width": null
          }
        },
        "95a3957dcecb4882810a6f2e9438a821": {
          "model_module": "@jupyter-widgets/controls",
          "model_name": "ProgressStyleModel",
          "model_module_version": "1.5.0",
          "state": {
            "_model_module": "@jupyter-widgets/controls",
            "_model_module_version": "1.5.0",
            "_model_name": "ProgressStyleModel",
            "_view_count": null,
            "_view_module": "@jupyter-widgets/base",
            "_view_module_version": "1.2.0",
            "_view_name": "StyleView",
            "bar_color": null,
            "description_width": ""
          }
        },
        "fe1c3303e69a4c1286cea5d94045dc42": {
          "model_module": "@jupyter-widgets/base",
          "model_name": "LayoutModel",
          "model_module_version": "1.2.0",
          "state": {
            "_model_module": "@jupyter-widgets/base",
            "_model_module_version": "1.2.0",
            "_model_name": "LayoutModel",
            "_view_count": null,
            "_view_module": "@jupyter-widgets/base",
            "_view_module_version": "1.2.0",
            "_view_name": "LayoutView",
            "align_content": null,
            "align_items": null,
            "align_self": null,
            "border": null,
            "bottom": null,
            "display": null,
            "flex": null,
            "flex_flow": null,
            "grid_area": null,
            "grid_auto_columns": null,
            "grid_auto_flow": null,
            "grid_auto_rows": null,
            "grid_column": null,
            "grid_gap": null,
            "grid_row": null,
            "grid_template_areas": null,
            "grid_template_columns": null,
            "grid_template_rows": null,
            "height": null,
            "justify_content": null,
            "justify_items": null,
            "left": null,
            "margin": null,
            "max_height": null,
            "max_width": null,
            "min_height": null,
            "min_width": null,
            "object_fit": null,
            "object_position": null,
            "order": null,
            "overflow": null,
            "overflow_x": null,
            "overflow_y": null,
            "padding": null,
            "right": null,
            "top": null,
            "visibility": null,
            "width": null
          }
        },
        "4f15b1e22d8a4428ae0f3cd1024c9631": {
          "model_module": "@jupyter-widgets/controls",
          "model_name": "DescriptionStyleModel",
          "model_module_version": "1.5.0",
          "state": {
            "_model_module": "@jupyter-widgets/controls",
            "_model_module_version": "1.5.0",
            "_model_name": "DescriptionStyleModel",
            "_view_count": null,
            "_view_module": "@jupyter-widgets/base",
            "_view_module_version": "1.2.0",
            "_view_name": "StyleView",
            "description_width": ""
          }
        },
        "0994b708743d41d89f3afbbc5c1e2b16": {
          "model_module": "@jupyter-widgets/controls",
          "model_name": "HBoxModel",
          "model_module_version": "1.5.0",
          "state": {
            "_dom_classes": [],
            "_model_module": "@jupyter-widgets/controls",
            "_model_module_version": "1.5.0",
            "_model_name": "HBoxModel",
            "_view_count": null,
            "_view_module": "@jupyter-widgets/controls",
            "_view_module_version": "1.5.0",
            "_view_name": "HBoxView",
            "box_style": "",
            "children": [
              "IPY_MODEL_3f18744f482f4deabffa84dd67bdc27a",
              "IPY_MODEL_9feed409e7ee4d1da437fecbcea25a67",
              "IPY_MODEL_0eed24cb11f54d51b2e991c28a4290a9"
            ],
            "layout": "IPY_MODEL_8435413157e34be29cf42b815e0f13af"
          }
        },
        "3f18744f482f4deabffa84dd67bdc27a": {
          "model_module": "@jupyter-widgets/controls",
          "model_name": "HTMLModel",
          "model_module_version": "1.5.0",
          "state": {
            "_dom_classes": [],
            "_model_module": "@jupyter-widgets/controls",
            "_model_module_version": "1.5.0",
            "_model_name": "HTMLModel",
            "_view_count": null,
            "_view_module": "@jupyter-widgets/controls",
            "_view_module_version": "1.5.0",
            "_view_name": "HTMLView",
            "description": "",
            "description_tooltip": null,
            "layout": "IPY_MODEL_a33cd8a904e04eb392400b231cbcbac4",
            "placeholder": "​",
            "style": "IPY_MODEL_0e2858aed38541258e4643bba09f4708",
            "value": "100%"
          }
        },
        "9feed409e7ee4d1da437fecbcea25a67": {
          "model_module": "@jupyter-widgets/controls",
          "model_name": "FloatProgressModel",
          "model_module_version": "1.5.0",
          "state": {
            "_dom_classes": [],
            "_model_module": "@jupyter-widgets/controls",
            "_model_module_version": "1.5.0",
            "_model_name": "FloatProgressModel",
            "_view_count": null,
            "_view_module": "@jupyter-widgets/controls",
            "_view_module_version": "1.5.0",
            "_view_name": "ProgressView",
            "bar_style": "success",
            "description": "",
            "description_tooltip": null,
            "layout": "IPY_MODEL_a2b8e49fe3de4b90808b62e173ebe97c",
            "max": 50,
            "min": 0,
            "orientation": "horizontal",
            "style": "IPY_MODEL_bb846b17d4144236a1aa401a8c64f3d2",
            "value": 50
          }
        },
        "0eed24cb11f54d51b2e991c28a4290a9": {
          "model_module": "@jupyter-widgets/controls",
          "model_name": "HTMLModel",
          "model_module_version": "1.5.0",
          "state": {
            "_dom_classes": [],
            "_model_module": "@jupyter-widgets/controls",
            "_model_module_version": "1.5.0",
            "_model_name": "HTMLModel",
            "_view_count": null,
            "_view_module": "@jupyter-widgets/controls",
            "_view_module_version": "1.5.0",
            "_view_name": "HTMLView",
            "description": "",
            "description_tooltip": null,
            "layout": "IPY_MODEL_cd8d137c190d48b6b3e94af6359231b5",
            "placeholder": "​",
            "style": "IPY_MODEL_bd59d45362324cd091d9fd867324baf3",
            "value": " 50/50 [00:11&lt;00:00,  4.54it/s]"
          }
        },
        "8435413157e34be29cf42b815e0f13af": {
          "model_module": "@jupyter-widgets/base",
          "model_name": "LayoutModel",
          "model_module_version": "1.2.0",
          "state": {
            "_model_module": "@jupyter-widgets/base",
            "_model_module_version": "1.2.0",
            "_model_name": "LayoutModel",
            "_view_count": null,
            "_view_module": "@jupyter-widgets/base",
            "_view_module_version": "1.2.0",
            "_view_name": "LayoutView",
            "align_content": null,
            "align_items": null,
            "align_self": null,
            "border": null,
            "bottom": null,
            "display": null,
            "flex": null,
            "flex_flow": null,
            "grid_area": null,
            "grid_auto_columns": null,
            "grid_auto_flow": null,
            "grid_auto_rows": null,
            "grid_column": null,
            "grid_gap": null,
            "grid_row": null,
            "grid_template_areas": null,
            "grid_template_columns": null,
            "grid_template_rows": null,
            "height": null,
            "justify_content": null,
            "justify_items": null,
            "left": null,
            "margin": null,
            "max_height": null,
            "max_width": null,
            "min_height": null,
            "min_width": null,
            "object_fit": null,
            "object_position": null,
            "order": null,
            "overflow": null,
            "overflow_x": null,
            "overflow_y": null,
            "padding": null,
            "right": null,
            "top": null,
            "visibility": null,
            "width": null
          }
        },
        "a33cd8a904e04eb392400b231cbcbac4": {
          "model_module": "@jupyter-widgets/base",
          "model_name": "LayoutModel",
          "model_module_version": "1.2.0",
          "state": {
            "_model_module": "@jupyter-widgets/base",
            "_model_module_version": "1.2.0",
            "_model_name": "LayoutModel",
            "_view_count": null,
            "_view_module": "@jupyter-widgets/base",
            "_view_module_version": "1.2.0",
            "_view_name": "LayoutView",
            "align_content": null,
            "align_items": null,
            "align_self": null,
            "border": null,
            "bottom": null,
            "display": null,
            "flex": null,
            "flex_flow": null,
            "grid_area": null,
            "grid_auto_columns": null,
            "grid_auto_flow": null,
            "grid_auto_rows": null,
            "grid_column": null,
            "grid_gap": null,
            "grid_row": null,
            "grid_template_areas": null,
            "grid_template_columns": null,
            "grid_template_rows": null,
            "height": null,
            "justify_content": null,
            "justify_items": null,
            "left": null,
            "margin": null,
            "max_height": null,
            "max_width": null,
            "min_height": null,
            "min_width": null,
            "object_fit": null,
            "object_position": null,
            "order": null,
            "overflow": null,
            "overflow_x": null,
            "overflow_y": null,
            "padding": null,
            "right": null,
            "top": null,
            "visibility": null,
            "width": null
          }
        },
        "0e2858aed38541258e4643bba09f4708": {
          "model_module": "@jupyter-widgets/controls",
          "model_name": "DescriptionStyleModel",
          "model_module_version": "1.5.0",
          "state": {
            "_model_module": "@jupyter-widgets/controls",
            "_model_module_version": "1.5.0",
            "_model_name": "DescriptionStyleModel",
            "_view_count": null,
            "_view_module": "@jupyter-widgets/base",
            "_view_module_version": "1.2.0",
            "_view_name": "StyleView",
            "description_width": ""
          }
        },
        "a2b8e49fe3de4b90808b62e173ebe97c": {
          "model_module": "@jupyter-widgets/base",
          "model_name": "LayoutModel",
          "model_module_version": "1.2.0",
          "state": {
            "_model_module": "@jupyter-widgets/base",
            "_model_module_version": "1.2.0",
            "_model_name": "LayoutModel",
            "_view_count": null,
            "_view_module": "@jupyter-widgets/base",
            "_view_module_version": "1.2.0",
            "_view_name": "LayoutView",
            "align_content": null,
            "align_items": null,
            "align_self": null,
            "border": null,
            "bottom": null,
            "display": null,
            "flex": null,
            "flex_flow": null,
            "grid_area": null,
            "grid_auto_columns": null,
            "grid_auto_flow": null,
            "grid_auto_rows": null,
            "grid_column": null,
            "grid_gap": null,
            "grid_row": null,
            "grid_template_areas": null,
            "grid_template_columns": null,
            "grid_template_rows": null,
            "height": null,
            "justify_content": null,
            "justify_items": null,
            "left": null,
            "margin": null,
            "max_height": null,
            "max_width": null,
            "min_height": null,
            "min_width": null,
            "object_fit": null,
            "object_position": null,
            "order": null,
            "overflow": null,
            "overflow_x": null,
            "overflow_y": null,
            "padding": null,
            "right": null,
            "top": null,
            "visibility": null,
            "width": null
          }
        },
        "bb846b17d4144236a1aa401a8c64f3d2": {
          "model_module": "@jupyter-widgets/controls",
          "model_name": "ProgressStyleModel",
          "model_module_version": "1.5.0",
          "state": {
            "_model_module": "@jupyter-widgets/controls",
            "_model_module_version": "1.5.0",
            "_model_name": "ProgressStyleModel",
            "_view_count": null,
            "_view_module": "@jupyter-widgets/base",
            "_view_module_version": "1.2.0",
            "_view_name": "StyleView",
            "bar_color": null,
            "description_width": ""
          }
        },
        "cd8d137c190d48b6b3e94af6359231b5": {
          "model_module": "@jupyter-widgets/base",
          "model_name": "LayoutModel",
          "model_module_version": "1.2.0",
          "state": {
            "_model_module": "@jupyter-widgets/base",
            "_model_module_version": "1.2.0",
            "_model_name": "LayoutModel",
            "_view_count": null,
            "_view_module": "@jupyter-widgets/base",
            "_view_module_version": "1.2.0",
            "_view_name": "LayoutView",
            "align_content": null,
            "align_items": null,
            "align_self": null,
            "border": null,
            "bottom": null,
            "display": null,
            "flex": null,
            "flex_flow": null,
            "grid_area": null,
            "grid_auto_columns": null,
            "grid_auto_flow": null,
            "grid_auto_rows": null,
            "grid_column": null,
            "grid_gap": null,
            "grid_row": null,
            "grid_template_areas": null,
            "grid_template_columns": null,
            "grid_template_rows": null,
            "height": null,
            "justify_content": null,
            "justify_items": null,
            "left": null,
            "margin": null,
            "max_height": null,
            "max_width": null,
            "min_height": null,
            "min_width": null,
            "object_fit": null,
            "object_position": null,
            "order": null,
            "overflow": null,
            "overflow_x": null,
            "overflow_y": null,
            "padding": null,
            "right": null,
            "top": null,
            "visibility": null,
            "width": null
          }
        },
        "bd59d45362324cd091d9fd867324baf3": {
          "model_module": "@jupyter-widgets/controls",
          "model_name": "DescriptionStyleModel",
          "model_module_version": "1.5.0",
          "state": {
            "_model_module": "@jupyter-widgets/controls",
            "_model_module_version": "1.5.0",
            "_model_name": "DescriptionStyleModel",
            "_view_count": null,
            "_view_module": "@jupyter-widgets/base",
            "_view_module_version": "1.2.0",
            "_view_name": "StyleView",
            "description_width": ""
          }
        },
        "837b4eefdd8247b2b2304c0c123ff62d": {
          "model_module": "@jupyter-widgets/controls",
          "model_name": "HBoxModel",
          "model_module_version": "1.5.0",
          "state": {
            "_dom_classes": [],
            "_model_module": "@jupyter-widgets/controls",
            "_model_module_version": "1.5.0",
            "_model_name": "HBoxModel",
            "_view_count": null,
            "_view_module": "@jupyter-widgets/controls",
            "_view_module_version": "1.5.0",
            "_view_name": "HBoxView",
            "box_style": "",
            "children": [
              "IPY_MODEL_476dc8f593f24d9f91b61706362bf7a6",
              "IPY_MODEL_bdbb86720ceb48b0b0695dcc00272591",
              "IPY_MODEL_c15b52d866f7476c80ff99ade7feeb56"
            ],
            "layout": "IPY_MODEL_8710c9e60f1c4cbda467e8abab1654b9"
          }
        },
        "476dc8f593f24d9f91b61706362bf7a6": {
          "model_module": "@jupyter-widgets/controls",
          "model_name": "HTMLModel",
          "model_module_version": "1.5.0",
          "state": {
            "_dom_classes": [],
            "_model_module": "@jupyter-widgets/controls",
            "_model_module_version": "1.5.0",
            "_model_name": "HTMLModel",
            "_view_count": null,
            "_view_module": "@jupyter-widgets/controls",
            "_view_module_version": "1.5.0",
            "_view_name": "HTMLView",
            "description": "",
            "description_tooltip": null,
            "layout": "IPY_MODEL_89668c8c388e4b269cfa2f2a690260fe",
            "placeholder": "​",
            "style": "IPY_MODEL_7069440296da45bc905b180ff462ef51",
            "value": "100%"
          }
        },
        "bdbb86720ceb48b0b0695dcc00272591": {
          "model_module": "@jupyter-widgets/controls",
          "model_name": "FloatProgressModel",
          "model_module_version": "1.5.0",
          "state": {
            "_dom_classes": [],
            "_model_module": "@jupyter-widgets/controls",
            "_model_module_version": "1.5.0",
            "_model_name": "FloatProgressModel",
            "_view_count": null,
            "_view_module": "@jupyter-widgets/controls",
            "_view_module_version": "1.5.0",
            "_view_name": "ProgressView",
            "bar_style": "success",
            "description": "",
            "description_tooltip": null,
            "layout": "IPY_MODEL_f6f30c2f4e574c5a91c6943adc2e5b70",
            "max": 5,
            "min": 0,
            "orientation": "horizontal",
            "style": "IPY_MODEL_64d907f50b1044b4b6f2caf098755eb4",
            "value": 5
          }
        },
        "c15b52d866f7476c80ff99ade7feeb56": {
          "model_module": "@jupyter-widgets/controls",
          "model_name": "HTMLModel",
          "model_module_version": "1.5.0",
          "state": {
            "_dom_classes": [],
            "_model_module": "@jupyter-widgets/controls",
            "_model_module_version": "1.5.0",
            "_model_name": "HTMLModel",
            "_view_count": null,
            "_view_module": "@jupyter-widgets/controls",
            "_view_module_version": "1.5.0",
            "_view_name": "HTMLView",
            "description": "",
            "description_tooltip": null,
            "layout": "IPY_MODEL_98f92eae17cb4d10aaeb3396a8e85190",
            "placeholder": "​",
            "style": "IPY_MODEL_6b362ccf5746414996739a3329263f57",
            "value": " 5/5 [05:24&lt;00:00, 64.78s/it]"
          }
        },
        "8710c9e60f1c4cbda467e8abab1654b9": {
          "model_module": "@jupyter-widgets/base",
          "model_name": "LayoutModel",
          "model_module_version": "1.2.0",
          "state": {
            "_model_module": "@jupyter-widgets/base",
            "_model_module_version": "1.2.0",
            "_model_name": "LayoutModel",
            "_view_count": null,
            "_view_module": "@jupyter-widgets/base",
            "_view_module_version": "1.2.0",
            "_view_name": "LayoutView",
            "align_content": null,
            "align_items": null,
            "align_self": null,
            "border": null,
            "bottom": null,
            "display": null,
            "flex": null,
            "flex_flow": null,
            "grid_area": null,
            "grid_auto_columns": null,
            "grid_auto_flow": null,
            "grid_auto_rows": null,
            "grid_column": null,
            "grid_gap": null,
            "grid_row": null,
            "grid_template_areas": null,
            "grid_template_columns": null,
            "grid_template_rows": null,
            "height": null,
            "justify_content": null,
            "justify_items": null,
            "left": null,
            "margin": null,
            "max_height": null,
            "max_width": null,
            "min_height": null,
            "min_width": null,
            "object_fit": null,
            "object_position": null,
            "order": null,
            "overflow": null,
            "overflow_x": null,
            "overflow_y": null,
            "padding": null,
            "right": null,
            "top": null,
            "visibility": null,
            "width": null
          }
        },
        "89668c8c388e4b269cfa2f2a690260fe": {
          "model_module": "@jupyter-widgets/base",
          "model_name": "LayoutModel",
          "model_module_version": "1.2.0",
          "state": {
            "_model_module": "@jupyter-widgets/base",
            "_model_module_version": "1.2.0",
            "_model_name": "LayoutModel",
            "_view_count": null,
            "_view_module": "@jupyter-widgets/base",
            "_view_module_version": "1.2.0",
            "_view_name": "LayoutView",
            "align_content": null,
            "align_items": null,
            "align_self": null,
            "border": null,
            "bottom": null,
            "display": null,
            "flex": null,
            "flex_flow": null,
            "grid_area": null,
            "grid_auto_columns": null,
            "grid_auto_flow": null,
            "grid_auto_rows": null,
            "grid_column": null,
            "grid_gap": null,
            "grid_row": null,
            "grid_template_areas": null,
            "grid_template_columns": null,
            "grid_template_rows": null,
            "height": null,
            "justify_content": null,
            "justify_items": null,
            "left": null,
            "margin": null,
            "max_height": null,
            "max_width": null,
            "min_height": null,
            "min_width": null,
            "object_fit": null,
            "object_position": null,
            "order": null,
            "overflow": null,
            "overflow_x": null,
            "overflow_y": null,
            "padding": null,
            "right": null,
            "top": null,
            "visibility": null,
            "width": null
          }
        },
        "7069440296da45bc905b180ff462ef51": {
          "model_module": "@jupyter-widgets/controls",
          "model_name": "DescriptionStyleModel",
          "model_module_version": "1.5.0",
          "state": {
            "_model_module": "@jupyter-widgets/controls",
            "_model_module_version": "1.5.0",
            "_model_name": "DescriptionStyleModel",
            "_view_count": null,
            "_view_module": "@jupyter-widgets/base",
            "_view_module_version": "1.2.0",
            "_view_name": "StyleView",
            "description_width": ""
          }
        },
        "f6f30c2f4e574c5a91c6943adc2e5b70": {
          "model_module": "@jupyter-widgets/base",
          "model_name": "LayoutModel",
          "model_module_version": "1.2.0",
          "state": {
            "_model_module": "@jupyter-widgets/base",
            "_model_module_version": "1.2.0",
            "_model_name": "LayoutModel",
            "_view_count": null,
            "_view_module": "@jupyter-widgets/base",
            "_view_module_version": "1.2.0",
            "_view_name": "LayoutView",
            "align_content": null,
            "align_items": null,
            "align_self": null,
            "border": null,
            "bottom": null,
            "display": null,
            "flex": null,
            "flex_flow": null,
            "grid_area": null,
            "grid_auto_columns": null,
            "grid_auto_flow": null,
            "grid_auto_rows": null,
            "grid_column": null,
            "grid_gap": null,
            "grid_row": null,
            "grid_template_areas": null,
            "grid_template_columns": null,
            "grid_template_rows": null,
            "height": null,
            "justify_content": null,
            "justify_items": null,
            "left": null,
            "margin": null,
            "max_height": null,
            "max_width": null,
            "min_height": null,
            "min_width": null,
            "object_fit": null,
            "object_position": null,
            "order": null,
            "overflow": null,
            "overflow_x": null,
            "overflow_y": null,
            "padding": null,
            "right": null,
            "top": null,
            "visibility": null,
            "width": null
          }
        },
        "64d907f50b1044b4b6f2caf098755eb4": {
          "model_module": "@jupyter-widgets/controls",
          "model_name": "ProgressStyleModel",
          "model_module_version": "1.5.0",
          "state": {
            "_model_module": "@jupyter-widgets/controls",
            "_model_module_version": "1.5.0",
            "_model_name": "ProgressStyleModel",
            "_view_count": null,
            "_view_module": "@jupyter-widgets/base",
            "_view_module_version": "1.2.0",
            "_view_name": "StyleView",
            "bar_color": null,
            "description_width": ""
          }
        },
        "98f92eae17cb4d10aaeb3396a8e85190": {
          "model_module": "@jupyter-widgets/base",
          "model_name": "LayoutModel",
          "model_module_version": "1.2.0",
          "state": {
            "_model_module": "@jupyter-widgets/base",
            "_model_module_version": "1.2.0",
            "_model_name": "LayoutModel",
            "_view_count": null,
            "_view_module": "@jupyter-widgets/base",
            "_view_module_version": "1.2.0",
            "_view_name": "LayoutView",
            "align_content": null,
            "align_items": null,
            "align_self": null,
            "border": null,
            "bottom": null,
            "display": null,
            "flex": null,
            "flex_flow": null,
            "grid_area": null,
            "grid_auto_columns": null,
            "grid_auto_flow": null,
            "grid_auto_rows": null,
            "grid_column": null,
            "grid_gap": null,
            "grid_row": null,
            "grid_template_areas": null,
            "grid_template_columns": null,
            "grid_template_rows": null,
            "height": null,
            "justify_content": null,
            "justify_items": null,
            "left": null,
            "margin": null,
            "max_height": null,
            "max_width": null,
            "min_height": null,
            "min_width": null,
            "object_fit": null,
            "object_position": null,
            "order": null,
            "overflow": null,
            "overflow_x": null,
            "overflow_y": null,
            "padding": null,
            "right": null,
            "top": null,
            "visibility": null,
            "width": null
          }
        },
        "6b362ccf5746414996739a3329263f57": {
          "model_module": "@jupyter-widgets/controls",
          "model_name": "DescriptionStyleModel",
          "model_module_version": "1.5.0",
          "state": {
            "_model_module": "@jupyter-widgets/controls",
            "_model_module_version": "1.5.0",
            "_model_name": "DescriptionStyleModel",
            "_view_count": null,
            "_view_module": "@jupyter-widgets/base",
            "_view_module_version": "1.2.0",
            "_view_name": "StyleView",
            "description_width": ""
          }
        }
      }
    }
  },
  "cells": [
    {
      "cell_type": "code",
      "execution_count": 41,
      "metadata": {
        "id": "wLQ11xjDNxYz"
      },
      "outputs": [],
      "source": []
    },
    {
      "cell_type": "code",
      "source": [
        "import pandas as pd\n",
        "\n",
        "df = pd.read_csv('/content/drive/MyDrive/Colab Notebooks/Tutoriel-1-dataset-facebook/train.csv')\n",
        "df.head(10)"
      ],
      "metadata": {
        "colab": {
          "base_uri": "https://localhost:8080/",
          "height": 363
        },
        "id": "z5TuGcBwN7SS",
        "outputId": "6f7dfbd4-db88-4be7-dcf4-57cff6ee731a"
      },
      "execution_count": 42,
      "outputs": [
        {
          "output_type": "execute_result",
          "data": {
            "text/plain": [
              "   source_node  destination_node\n",
              "0            1            690569\n",
              "1            1            315892\n",
              "2            1            189226\n",
              "3            2            834328\n",
              "4            2           1615927\n",
              "5            2           1194519\n",
              "6            2            470294\n",
              "7            2            961886\n",
              "8            2            626040\n",
              "9            3            176995"
            ],
            "text/html": [
              "\n",
              "  <div id=\"df-fa99e26f-a4f7-4747-b2f8-dedf4f7ff299\" class=\"colab-df-container\">\n",
              "    <div>\n",
              "<style scoped>\n",
              "    .dataframe tbody tr th:only-of-type {\n",
              "        vertical-align: middle;\n",
              "    }\n",
              "\n",
              "    .dataframe tbody tr th {\n",
              "        vertical-align: top;\n",
              "    }\n",
              "\n",
              "    .dataframe thead th {\n",
              "        text-align: right;\n",
              "    }\n",
              "</style>\n",
              "<table border=\"1\" class=\"dataframe\">\n",
              "  <thead>\n",
              "    <tr style=\"text-align: right;\">\n",
              "      <th></th>\n",
              "      <th>source_node</th>\n",
              "      <th>destination_node</th>\n",
              "    </tr>\n",
              "  </thead>\n",
              "  <tbody>\n",
              "    <tr>\n",
              "      <th>0</th>\n",
              "      <td>1</td>\n",
              "      <td>690569</td>\n",
              "    </tr>\n",
              "    <tr>\n",
              "      <th>1</th>\n",
              "      <td>1</td>\n",
              "      <td>315892</td>\n",
              "    </tr>\n",
              "    <tr>\n",
              "      <th>2</th>\n",
              "      <td>1</td>\n",
              "      <td>189226</td>\n",
              "    </tr>\n",
              "    <tr>\n",
              "      <th>3</th>\n",
              "      <td>2</td>\n",
              "      <td>834328</td>\n",
              "    </tr>\n",
              "    <tr>\n",
              "      <th>4</th>\n",
              "      <td>2</td>\n",
              "      <td>1615927</td>\n",
              "    </tr>\n",
              "    <tr>\n",
              "      <th>5</th>\n",
              "      <td>2</td>\n",
              "      <td>1194519</td>\n",
              "    </tr>\n",
              "    <tr>\n",
              "      <th>6</th>\n",
              "      <td>2</td>\n",
              "      <td>470294</td>\n",
              "    </tr>\n",
              "    <tr>\n",
              "      <th>7</th>\n",
              "      <td>2</td>\n",
              "      <td>961886</td>\n",
              "    </tr>\n",
              "    <tr>\n",
              "      <th>8</th>\n",
              "      <td>2</td>\n",
              "      <td>626040</td>\n",
              "    </tr>\n",
              "    <tr>\n",
              "      <th>9</th>\n",
              "      <td>3</td>\n",
              "      <td>176995</td>\n",
              "    </tr>\n",
              "  </tbody>\n",
              "</table>\n",
              "</div>\n",
              "    <div class=\"colab-df-buttons\">\n",
              "\n",
              "  <div class=\"colab-df-container\">\n",
              "    <button class=\"colab-df-convert\" onclick=\"convertToInteractive('df-fa99e26f-a4f7-4747-b2f8-dedf4f7ff299')\"\n",
              "            title=\"Convert this dataframe to an interactive table.\"\n",
              "            style=\"display:none;\">\n",
              "\n",
              "  <svg xmlns=\"http://www.w3.org/2000/svg\" height=\"24px\" viewBox=\"0 -960 960 960\">\n",
              "    <path d=\"M120-120v-720h720v720H120Zm60-500h600v-160H180v160Zm220 220h160v-160H400v160Zm0 220h160v-160H400v160ZM180-400h160v-160H180v160Zm440 0h160v-160H620v160ZM180-180h160v-160H180v160Zm440 0h160v-160H620v160Z\"/>\n",
              "  </svg>\n",
              "    </button>\n",
              "\n",
              "  <style>\n",
              "    .colab-df-container {\n",
              "      display:flex;\n",
              "      gap: 12px;\n",
              "    }\n",
              "\n",
              "    .colab-df-convert {\n",
              "      background-color: #E8F0FE;\n",
              "      border: none;\n",
              "      border-radius: 50%;\n",
              "      cursor: pointer;\n",
              "      display: none;\n",
              "      fill: #1967D2;\n",
              "      height: 32px;\n",
              "      padding: 0 0 0 0;\n",
              "      width: 32px;\n",
              "    }\n",
              "\n",
              "    .colab-df-convert:hover {\n",
              "      background-color: #E2EBFA;\n",
              "      box-shadow: 0px 1px 2px rgba(60, 64, 67, 0.3), 0px 1px 3px 1px rgba(60, 64, 67, 0.15);\n",
              "      fill: #174EA6;\n",
              "    }\n",
              "\n",
              "    .colab-df-buttons div {\n",
              "      margin-bottom: 4px;\n",
              "    }\n",
              "\n",
              "    [theme=dark] .colab-df-convert {\n",
              "      background-color: #3B4455;\n",
              "      fill: #D2E3FC;\n",
              "    }\n",
              "\n",
              "    [theme=dark] .colab-df-convert:hover {\n",
              "      background-color: #434B5C;\n",
              "      box-shadow: 0px 1px 3px 1px rgba(0, 0, 0, 0.15);\n",
              "      filter: drop-shadow(0px 1px 2px rgba(0, 0, 0, 0.3));\n",
              "      fill: #FFFFFF;\n",
              "    }\n",
              "  </style>\n",
              "\n",
              "    <script>\n",
              "      const buttonEl =\n",
              "        document.querySelector('#df-fa99e26f-a4f7-4747-b2f8-dedf4f7ff299 button.colab-df-convert');\n",
              "      buttonEl.style.display =\n",
              "        google.colab.kernel.accessAllowed ? 'block' : 'none';\n",
              "\n",
              "      async function convertToInteractive(key) {\n",
              "        const element = document.querySelector('#df-fa99e26f-a4f7-4747-b2f8-dedf4f7ff299');\n",
              "        const dataTable =\n",
              "          await google.colab.kernel.invokeFunction('convertToInteractive',\n",
              "                                                    [key], {});\n",
              "        if (!dataTable) return;\n",
              "\n",
              "        const docLinkHtml = 'Like what you see? Visit the ' +\n",
              "          '<a target=\"_blank\" href=https://colab.research.google.com/notebooks/data_table.ipynb>data table notebook</a>'\n",
              "          + ' to learn more about interactive tables.';\n",
              "        element.innerHTML = '';\n",
              "        dataTable['output_type'] = 'display_data';\n",
              "        await google.colab.output.renderOutput(dataTable, element);\n",
              "        const docLink = document.createElement('div');\n",
              "        docLink.innerHTML = docLinkHtml;\n",
              "        element.appendChild(docLink);\n",
              "      }\n",
              "    </script>\n",
              "  </div>\n",
              "\n",
              "\n",
              "<div id=\"df-e11006ef-ef04-407a-b750-c35acbbea13d\">\n",
              "  <button class=\"colab-df-quickchart\" onclick=\"quickchart('df-e11006ef-ef04-407a-b750-c35acbbea13d')\"\n",
              "            title=\"Suggest charts\"\n",
              "            style=\"display:none;\">\n",
              "\n",
              "<svg xmlns=\"http://www.w3.org/2000/svg\" height=\"24px\"viewBox=\"0 0 24 24\"\n",
              "     width=\"24px\">\n",
              "    <g>\n",
              "        <path d=\"M19 3H5c-1.1 0-2 .9-2 2v14c0 1.1.9 2 2 2h14c1.1 0 2-.9 2-2V5c0-1.1-.9-2-2-2zM9 17H7v-7h2v7zm4 0h-2V7h2v10zm4 0h-2v-4h2v4z\"/>\n",
              "    </g>\n",
              "</svg>\n",
              "  </button>\n",
              "\n",
              "<style>\n",
              "  .colab-df-quickchart {\n",
              "      --bg-color: #E8F0FE;\n",
              "      --fill-color: #1967D2;\n",
              "      --hover-bg-color: #E2EBFA;\n",
              "      --hover-fill-color: #174EA6;\n",
              "      --disabled-fill-color: #AAA;\n",
              "      --disabled-bg-color: #DDD;\n",
              "  }\n",
              "\n",
              "  [theme=dark] .colab-df-quickchart {\n",
              "      --bg-color: #3B4455;\n",
              "      --fill-color: #D2E3FC;\n",
              "      --hover-bg-color: #434B5C;\n",
              "      --hover-fill-color: #FFFFFF;\n",
              "      --disabled-bg-color: #3B4455;\n",
              "      --disabled-fill-color: #666;\n",
              "  }\n",
              "\n",
              "  .colab-df-quickchart {\n",
              "    background-color: var(--bg-color);\n",
              "    border: none;\n",
              "    border-radius: 50%;\n",
              "    cursor: pointer;\n",
              "    display: none;\n",
              "    fill: var(--fill-color);\n",
              "    height: 32px;\n",
              "    padding: 0;\n",
              "    width: 32px;\n",
              "  }\n",
              "\n",
              "  .colab-df-quickchart:hover {\n",
              "    background-color: var(--hover-bg-color);\n",
              "    box-shadow: 0 1px 2px rgba(60, 64, 67, 0.3), 0 1px 3px 1px rgba(60, 64, 67, 0.15);\n",
              "    fill: var(--button-hover-fill-color);\n",
              "  }\n",
              "\n",
              "  .colab-df-quickchart-complete:disabled,\n",
              "  .colab-df-quickchart-complete:disabled:hover {\n",
              "    background-color: var(--disabled-bg-color);\n",
              "    fill: var(--disabled-fill-color);\n",
              "    box-shadow: none;\n",
              "  }\n",
              "\n",
              "  .colab-df-spinner {\n",
              "    border: 2px solid var(--fill-color);\n",
              "    border-color: transparent;\n",
              "    border-bottom-color: var(--fill-color);\n",
              "    animation:\n",
              "      spin 1s steps(1) infinite;\n",
              "  }\n",
              "\n",
              "  @keyframes spin {\n",
              "    0% {\n",
              "      border-color: transparent;\n",
              "      border-bottom-color: var(--fill-color);\n",
              "      border-left-color: var(--fill-color);\n",
              "    }\n",
              "    20% {\n",
              "      border-color: transparent;\n",
              "      border-left-color: var(--fill-color);\n",
              "      border-top-color: var(--fill-color);\n",
              "    }\n",
              "    30% {\n",
              "      border-color: transparent;\n",
              "      border-left-color: var(--fill-color);\n",
              "      border-top-color: var(--fill-color);\n",
              "      border-right-color: var(--fill-color);\n",
              "    }\n",
              "    40% {\n",
              "      border-color: transparent;\n",
              "      border-right-color: var(--fill-color);\n",
              "      border-top-color: var(--fill-color);\n",
              "    }\n",
              "    60% {\n",
              "      border-color: transparent;\n",
              "      border-right-color: var(--fill-color);\n",
              "    }\n",
              "    80% {\n",
              "      border-color: transparent;\n",
              "      border-right-color: var(--fill-color);\n",
              "      border-bottom-color: var(--fill-color);\n",
              "    }\n",
              "    90% {\n",
              "      border-color: transparent;\n",
              "      border-bottom-color: var(--fill-color);\n",
              "    }\n",
              "  }\n",
              "</style>\n",
              "\n",
              "  <script>\n",
              "    async function quickchart(key) {\n",
              "      const quickchartButtonEl =\n",
              "        document.querySelector('#' + key + ' button');\n",
              "      quickchartButtonEl.disabled = true;  // To prevent multiple clicks.\n",
              "      quickchartButtonEl.classList.add('colab-df-spinner');\n",
              "      try {\n",
              "        const charts = await google.colab.kernel.invokeFunction(\n",
              "            'suggestCharts', [key], {});\n",
              "      } catch (error) {\n",
              "        console.error('Error during call to suggestCharts:', error);\n",
              "      }\n",
              "      quickchartButtonEl.classList.remove('colab-df-spinner');\n",
              "      quickchartButtonEl.classList.add('colab-df-quickchart-complete');\n",
              "    }\n",
              "    (() => {\n",
              "      let quickchartButtonEl =\n",
              "        document.querySelector('#df-e11006ef-ef04-407a-b750-c35acbbea13d button');\n",
              "      quickchartButtonEl.style.display =\n",
              "        google.colab.kernel.accessAllowed ? 'block' : 'none';\n",
              "    })();\n",
              "  </script>\n",
              "</div>\n",
              "\n",
              "    </div>\n",
              "  </div>\n"
            ],
            "application/vnd.google.colaboratory.intrinsic+json": {
              "type": "dataframe",
              "variable_name": "df"
            }
          },
          "metadata": {},
          "execution_count": 42
        }
      ]
    },
    {
      "cell_type": "code",
      "source": [
        "pip install torch-geometric"
      ],
      "metadata": {
        "colab": {
          "base_uri": "https://localhost:8080/"
        },
        "id": "lysE62wDVszH",
        "outputId": "45a013d4-277e-46d6-816a-ab5d718b6ea8"
      },
      "execution_count": 43,
      "outputs": [
        {
          "output_type": "stream",
          "name": "stdout",
          "text": [
            "Requirement already satisfied: torch-geometric in /usr/local/lib/python3.11/dist-packages (2.6.1)\n",
            "Requirement already satisfied: aiohttp in /usr/local/lib/python3.11/dist-packages (from torch-geometric) (3.11.13)\n",
            "Requirement already satisfied: fsspec in /usr/local/lib/python3.11/dist-packages (from torch-geometric) (2024.10.0)\n",
            "Requirement already satisfied: jinja2 in /usr/local/lib/python3.11/dist-packages (from torch-geometric) (3.1.5)\n",
            "Requirement already satisfied: numpy in /usr/local/lib/python3.11/dist-packages (from torch-geometric) (1.26.4)\n",
            "Requirement already satisfied: psutil>=5.8.0 in /usr/local/lib/python3.11/dist-packages (from torch-geometric) (5.9.5)\n",
            "Requirement already satisfied: pyparsing in /usr/local/lib/python3.11/dist-packages (from torch-geometric) (3.2.1)\n",
            "Requirement already satisfied: requests in /usr/local/lib/python3.11/dist-packages (from torch-geometric) (2.32.3)\n",
            "Requirement already satisfied: tqdm in /usr/local/lib/python3.11/dist-packages (from torch-geometric) (4.67.1)\n",
            "Requirement already satisfied: aiohappyeyeballs>=2.3.0 in /usr/local/lib/python3.11/dist-packages (from aiohttp->torch-geometric) (2.4.6)\n",
            "Requirement already satisfied: aiosignal>=1.1.2 in /usr/local/lib/python3.11/dist-packages (from aiohttp->torch-geometric) (1.3.2)\n",
            "Requirement already satisfied: attrs>=17.3.0 in /usr/local/lib/python3.11/dist-packages (from aiohttp->torch-geometric) (25.1.0)\n",
            "Requirement already satisfied: frozenlist>=1.1.1 in /usr/local/lib/python3.11/dist-packages (from aiohttp->torch-geometric) (1.5.0)\n",
            "Requirement already satisfied: multidict<7.0,>=4.5 in /usr/local/lib/python3.11/dist-packages (from aiohttp->torch-geometric) (6.1.0)\n",
            "Requirement already satisfied: propcache>=0.2.0 in /usr/local/lib/python3.11/dist-packages (from aiohttp->torch-geometric) (0.3.0)\n",
            "Requirement already satisfied: yarl<2.0,>=1.17.0 in /usr/local/lib/python3.11/dist-packages (from aiohttp->torch-geometric) (1.18.3)\n",
            "Requirement already satisfied: MarkupSafe>=2.0 in /usr/local/lib/python3.11/dist-packages (from jinja2->torch-geometric) (3.0.2)\n",
            "Requirement already satisfied: charset-normalizer<4,>=2 in /usr/local/lib/python3.11/dist-packages (from requests->torch-geometric) (3.4.1)\n",
            "Requirement already satisfied: idna<4,>=2.5 in /usr/local/lib/python3.11/dist-packages (from requests->torch-geometric) (3.10)\n",
            "Requirement already satisfied: urllib3<3,>=1.21.1 in /usr/local/lib/python3.11/dist-packages (from requests->torch-geometric) (2.3.0)\n",
            "Requirement already satisfied: certifi>=2017.4.17 in /usr/local/lib/python3.11/dist-packages (from requests->torch-geometric) (2025.1.31)\n"
          ]
        }
      ]
    },
    {
      "cell_type": "code",
      "source": [
        "import pandas as pd\n",
        "import numpy as np\n",
        "import networkx as nx\n",
        "import torch\n",
        "import torch.nn as nn\n",
        "import torch.nn.functional as F\n",
        "from torch_geometric.nn import GCNConv, SAGEConv, GraphSAGE\n",
        "from torch_geometric.data import Data, DataLoader\n",
        "from torch_geometric.utils import to_undirected, add_self_loops\n",
        "from sklearn.metrics import roc_auc_score, f1_score\n",
        "import matplotlib.pyplot as plt\n",
        "from tqdm.notebook import tqdm\n",
        "import os\n",
        "import random\n",
        "import pickle\n",
        "from collections import Counter"
      ],
      "metadata": {
        "id": "rLGCXRfZN7VX"
      },
      "execution_count": 44,
      "outputs": []
    },
    {
      "cell_type": "code",
      "source": [],
      "metadata": {
        "id": "ulLZGXrXVr_b"
      },
      "execution_count": 44,
      "outputs": []
    },
    {
      "cell_type": "code",
      "source": [
        "random_seed = 42\n",
        "torch.manual_seed(random_seed)\n",
        "np.random.seed(random_seed)\n",
        "random.seed(random_seed)\n",
        "device = torch.device('cuda' if torch.cuda.is_available() else 'cpu')\n",
        "print(f\"Using device: {device}\")"
      ],
      "metadata": {
        "colab": {
          "base_uri": "https://localhost:8080/"
        },
        "id": "dHhJ2018OWsa",
        "outputId": "a715c9ec-2b82-484b-88ca-016301ebbc53"
      },
      "execution_count": 45,
      "outputs": [
        {
          "output_type": "stream",
          "name": "stdout",
          "text": [
            "Using device: cuda\n"
          ]
        }
      ]
    },
    {
      "cell_type": "code",
      "source": [
        "print(\"Chargement des données...\")\n",
        "train_df = pd.read_csv('/content/drive/MyDrive/Colab Notebooks/Tutoriel-1-dataset-facebook/train.csv')\n",
        "test_df = pd.read_csv('/content/drive/MyDrive/Colab Notebooks/Tutoriel-1-dataset-facebook/test.csv')"
      ],
      "metadata": {
        "colab": {
          "base_uri": "https://localhost:8080/"
        },
        "id": "1KLQaUdLOWyL",
        "outputId": "9845c61d-cadb-4301-bb98-7265074f240e"
      },
      "execution_count": 46,
      "outputs": [
        {
          "output_type": "stream",
          "name": "stdout",
          "text": [
            "Chargement des données...\n"
          ]
        }
      ]
    },
    {
      "cell_type": "code",
      "source": [
        "print(f\"Dimensions du dataset d'entrainement: {train_df.shape}\")\n",
        "print(f\"Dimensions du dataset de test: {test_df.shape}\")\n",
        "print(\"\\nAperçu des premières lignes du dataset d'entrainement:\")\n",
        "print(train_df.head())\n",
        "print(\"\\nAperçu des premières lignes du dataset de test:\")\n",
        "print(test_df.head())"
      ],
      "metadata": {
        "colab": {
          "base_uri": "https://localhost:8080/"
        },
        "id": "xlbcfHqMOW1l",
        "outputId": "b8239d39-5d8b-4002-ebbb-1f0143035c34"
      },
      "execution_count": 47,
      "outputs": [
        {
          "output_type": "stream",
          "name": "stdout",
          "text": [
            "Dimensions du dataset d'entrainement: (9437519, 2)\n",
            "Dimensions du dataset de test: (262588, 1)\n",
            "\n",
            "Aperçu des premières lignes du dataset d'entrainement:\n",
            "   source_node  destination_node\n",
            "0            1            690569\n",
            "1            1            315892\n",
            "2            1            189226\n",
            "3            2            834328\n",
            "4            2           1615927\n",
            "\n",
            "Aperçu des premières lignes du dataset de test:\n",
            "   source_node\n",
            "0           20\n",
            "1           24\n",
            "2           31\n",
            "3           35\n",
            "4           42\n"
          ]
        }
      ]
    },
    {
      "cell_type": "code",
      "source": [
        "print(\"\\nCréation du graphe...\")\n",
        "G = nx.from_pandas_edgelist(train_df, 'source_node', 'destination_node', create_using=nx.DiGraph())"
      ],
      "metadata": {
        "colab": {
          "base_uri": "https://localhost:8080/"
        },
        "id": "3n8ZkcAYPJXt",
        "outputId": "0e32d62b-1cc3-4e87-fba5-cde41a3ac1cb"
      },
      "execution_count": 48,
      "outputs": [
        {
          "output_type": "stream",
          "name": "stdout",
          "text": [
            "\n",
            "Création du graphe...\n"
          ]
        }
      ]
    },
    {
      "cell_type": "code",
      "source": [
        "print(f\"Nombre de nœuds : {G.number_of_nodes()}\")\n",
        "print(f\"Nombre d'arêtes : {G.number_of_edges()}\")"
      ],
      "metadata": {
        "colab": {
          "base_uri": "https://localhost:8080/"
        },
        "id": "DfRviseqPJar",
        "outputId": "56607b5e-7b88-46d7-f662-5b8af304f70f"
      },
      "execution_count": 49,
      "outputs": [
        {
          "output_type": "stream",
          "name": "stdout",
          "text": [
            "Nombre de nœuds : 1862220\n",
            "Nombre d'arêtes : 9437519\n"
          ]
        }
      ]
    },
    {
      "cell_type": "markdown",
      "source": [
        "# Statistiques de base du graphe"
      ],
      "metadata": {
        "id": "kZqqSepTP158"
      }
    },
    {
      "cell_type": "code",
      "source": [
        "n_nodes = G.number_of_nodes()\n",
        "n_edges = G.number_of_edges()\n",
        "in_degrees = dict(G.in_degree())\n",
        "out_degrees = dict(G.out_degree())"
      ],
      "metadata": {
        "id": "2UYquZjcPJdU"
      },
      "execution_count": 50,
      "outputs": []
    },
    {
      "cell_type": "markdown",
      "source": [
        "# Visualisation des distributions de degrés"
      ],
      "metadata": {
        "id": "UGEjbDTDP68v"
      }
    },
    {
      "cell_type": "code",
      "source": [
        "fig, (ax1, ax2) = plt.subplots(1, 2, figsize=(14, 5))\n",
        "in_degree_values = list(in_degrees.values())\n",
        "out_degree_values = list(out_degrees.values())\n",
        "\n",
        "ax1.hist(in_degree_values, bins=50, alpha=0.7)\n",
        "ax1.set_title('Distribution des degrés entrants (followers)')\n",
        "ax1.set_xlabel('Nombre de followers')\n",
        "ax1.set_ylabel('Fréquence')\n",
        "ax1.set_xscale('log')\n",
        "ax1.set_yscale('log')\n",
        "\n",
        "ax2.hist(out_degree_values, bins=50, alpha=0.7)\n",
        "ax2.set_title('Distribution des degrés sortants (following)')\n",
        "ax2.set_xlabel('Nombre de following')\n",
        "ax2.set_ylabel('Fréquence')\n",
        "ax2.set_xscale('log')\n",
        "ax2.set_yscale('log')\n",
        "\n",
        "plt.tight_layout()\n",
        "plt.show()"
      ],
      "metadata": {
        "colab": {
          "base_uri": "https://localhost:8080/",
          "height": 426
        },
        "id": "SeYEUZ0MPJgB",
        "outputId": "9b37bc04-a2b9-4ecc-93a2-858a8dd54251"
      },
      "execution_count": 51,
      "outputs": [
        {
          "output_type": "display_data",
          "data": {
            "text/plain": [
              "<Figure size 1400x500 with 2 Axes>"
            ],
            "image/png": "[encoded data removed]"
          },
          "metadata": {}
        }
      ]
    },
    {
      "cell_type": "markdown",
      "source": [],
      "metadata": {
        "id": "FrwTKIjKQHyC"
      }
    },
    {
      "cell_type": "markdown",
      "source": [
        "# Création de négative samples pour l'entraînement\n"
      ],
      "metadata": {
        "id": "GV8NMMG0QHpp"
      }
    },
    {
      "cell_type": "code",
      "source": [
        "def create_negative_samples(graph, n_samples):\n",
        "    \"\"\"Génère des paires de nœuds qui ne sont pas connectés dans le graphe\"\"\"\n",
        "    print(\"Création des échantillons négatifs...\")\n",
        "\n",
        "    all_nodes = list(graph.nodes())\n",
        "    negative_samples = []\n",
        "    existing_edges = set(graph.edges())\n",
        "\n",
        "    pbar = tqdm(total=n_samples)\n",
        "    while len(negative_samples) < n_samples:\n",
        "        # Sélection aléatoire d'une paire de nœuds\n",
        "        source = random.choice(all_nodes)\n",
        "        dest = random.choice(all_nodes)\n",
        "\n",
        "        # Vérification que la paire n'est pas déjà une arête et que ce n'est pas un self-loop\n",
        "        if source != dest and (source, dest) not in existing_edges:\n",
        "            negative_samples.append((source, dest))\n",
        "            pbar.update(1)\n",
        "\n",
        "    pbar.close()\n",
        "    return negative_samples"
      ],
      "metadata": {
        "id": "rWK84_q_QBTg"
      },
      "execution_count": 52,
      "outputs": []
    },
    {
      "cell_type": "markdown",
      "source": [
        "# Création du dataset équilibré (même nombre d'exemples positifs et négatifs)"
      ],
      "metadata": {
        "id": "wpiNtdj9QRNI"
      }
    },
    {
      "cell_type": "code",
      "source": [
        "n_positive_samples = min(len(train_df), 100000)  # Limitation pour des raisons de performance\n",
        "print(f\"Utilisation de {n_positive_samples} exemples positifs\")\n"
      ],
      "metadata": {
        "colab": {
          "base_uri": "https://localhost:8080/"
        },
        "id": "XK7Aps-WQBXB",
        "outputId": "04434794-71e2-4f4a-8c27-9d28a34c04ca"
      },
      "execution_count": 53,
      "outputs": [
        {
          "output_type": "stream",
          "name": "stdout",
          "text": [
            "Utilisation de 100000 exemples positifs\n"
          ]
        }
      ]
    },
    {
      "cell_type": "code",
      "source": [
        "positive_samples = train_df.sample(n_positive_samples, random_state=random_seed).values.tolist()\n",
        "negative_samples = create_negative_samples(G, n_positive_samples)"
      ],
      "metadata": {
        "colab": {
          "base_uri": "https://localhost:8080/",
          "height": 67,
          "referenced_widgets": [
            "885674b52e224120836f88983369e52e",
            "a3a408f49df9483193cd835b79252cdc",
            "d3bbc5ec028d4877a1d3ba310031d6f3",
            "40ec59258abb468caa9d0415d40c712c",
            "5204acb2411a4ecbbe2678fabc23d00c",
            "cf304ed70ec34cf4b4f92fb36b8d6118",
            "208864bb188d4a73ab7ada02bf57b9f2",
            "91885c82f4064c3e85f5af156c3c9cb3",
            "95a3957dcecb4882810a6f2e9438a821",
            "fe1c3303e69a4c1286cea5d94045dc42",
            "4f15b1e22d8a4428ae0f3cd1024c9631"
          ]
        },
        "id": "15qVW_8yQBal",
        "outputId": "8176897c-b935-438c-a4a1-87ae641e3a0b"
      },
      "execution_count": 54,
      "outputs": [
        {
          "output_type": "stream",
          "name": "stdout",
          "text": [
            "Création des échantillons négatifs...\n"
          ]
        },
        {
          "output_type": "display_data",
          "data": {
            "text/plain": [
              "  0%|          | 0/100000 [00:00<?, ?it/s]"
            ],
            "application/vnd.jupyter.widget-view+json": {
              "version_major": 2,
              "version_minor": 0,
              "model_id": "885674b52e224120836f88983369e52e"
            }
          },
          "metadata": {}
        }
      ]
    },
    {
      "cell_type": "code",
      "source": [
        "positive_labels = [1] * len(positive_samples)\n",
        "negative_labels = [0] * len(negative_samples)"
      ],
      "metadata": {
        "id": "XcUtdsnmQBd7"
      },
      "execution_count": 55,
      "outputs": []
    },
    {
      "cell_type": "code",
      "source": [
        "all_samples = positive_samples + negative_samples\n",
        "all_labels = positive_labels + negative_labels"
      ],
      "metadata": {
        "id": "0PYjvJyEQdvu"
      },
      "execution_count": 56,
      "outputs": []
    },
    {
      "cell_type": "code",
      "source": [
        "combined = list(zip(all_samples, all_labels))\n",
        "random.shuffle(combined)\n",
        "all_samples, all_labels = zip(*combined)\n"
      ],
      "metadata": {
        "id": "oWpOkDaYQdys"
      },
      "execution_count": 57,
      "outputs": []
    },
    {
      "cell_type": "code",
      "source": [
        "# Conversion en tenseurs PyTorch\n",
        "edge_index = torch.tensor([[s[0], s[1]] for s in all_samples], dtype=torch.long).t().contiguous()\n",
        "labels = torch.tensor(all_labels, dtype=torch.float)"
      ],
      "metadata": {
        "id": "DjNmmxKLQd11"
      },
      "execution_count": 58,
      "outputs": []
    },
    {
      "cell_type": "code",
      "source": [
        "# Mappage des ID de nœuds vers des indices consécutifs\n",
        "unique_nodes = set()\n",
        "for edge in all_samples:\n",
        "    unique_nodes.add(edge[0])\n",
        "    unique_nodes.add(edge[1])\n",
        "for node in G.nodes():\n",
        "    unique_nodes.add(node)\n",
        "for node in test_df['source_node'].values:\n",
        "    unique_nodes.add(node)"
      ],
      "metadata": {
        "id": "gIOWouoAQd4a"
      },
      "execution_count": 59,
      "outputs": []
    },
    {
      "cell_type": "code",
      "source": [
        "node_mapping = {node: idx for idx, node in enumerate(unique_nodes)}\n",
        "inv_node_mapping = {idx: node for node, idx in node_mapping.items()}"
      ],
      "metadata": {
        "id": "Y-Xxm_qhQd7o"
      },
      "execution_count": 60,
      "outputs": []
    },
    {
      "cell_type": "code",
      "source": [
        "# Création des features de nœuds (on utilise le degré comme feature simple)\n",
        "def create_node_features(graph, node_mapping):\n",
        "    \"\"\"Crée des features pour chaque nœud basées sur les degrés et d'autres propriétés\"\"\"\n",
        "    n_nodes = len(node_mapping)\n",
        "    # Initialisation avec des features de dimensions 10\n",
        "    node_features = torch.zeros((n_nodes, 10), dtype=torch.float)\n",
        "\n",
        "    # Calcul des propriétés du graphe\n",
        "    in_degrees = dict(graph.in_degree())\n",
        "    out_degrees = dict(graph.out_degree())\n",
        "\n",
        "    # Calcul du PageRank\n",
        "    pagerank = nx.pagerank(graph, alpha=0.85)\n",
        "\n",
        "    # Remplissage des features pour chaque nœud\n",
        "    for node, idx in node_mapping.items():\n",
        "        if node in graph:\n",
        "            # Degré entrant normalisé\n",
        "            in_deg = in_degrees.get(node, 0)\n",
        "            # Degré sortant normalisé\n",
        "            out_deg = out_degrees.get(node, 0)\n",
        "            # PageRank\n",
        "            pr = pagerank.get(node, 0)\n",
        "\n",
        "            # Assignation des features (utilisez celles que vous avez)\n",
        "            node_features[idx, 0] = in_deg\n",
        "            node_features[idx, 1] = out_deg\n",
        "            node_features[idx, 2] = in_deg + out_deg\n",
        "            node_features[idx, 3] = pr * 1000  # Mise à l'échelle\n",
        "\n",
        "            # Plus de features peuvent être ajoutées ici\n",
        "\n",
        "    # Normalisation des features\n",
        "    mean = node_features.mean(dim=0)\n",
        "    std = node_features.std(dim=0)\n",
        "    std[std == 0] = 1  # Éviter la division par zéro\n",
        "    node_features = (node_features - mean) / std\n",
        "\n",
        "    return node_features"
      ],
      "metadata": {
        "id": "IjEzbH40QsPL"
      },
      "execution_count": 61,
      "outputs": []
    },
    {
      "cell_type": "code",
      "source": [
        "# Création des features pour chaque nœud\n",
        "node_features = create_node_features(G, node_mapping)"
      ],
      "metadata": {
        "id": "JlMjj3uNQsSB"
      },
      "execution_count": 62,
      "outputs": []
    },
    {
      "cell_type": "code",
      "source": [
        "# Remappe les indices d'arêtes\n",
        "def remap_edge_indices(edge_index, node_mapping):\n",
        "    src = [node_mapping[int(edge_index[0, i])] for i in range(edge_index.size(1))]\n",
        "    dst = [node_mapping[int(edge_index[1, i])] for i in range(edge_index.size(1))]\n",
        "    return torch.tensor([src, dst], dtype=torch.long)\n",
        "\n",
        "edge_index_mapped = remap_edge_indices(edge_index, node_mapping)"
      ],
      "metadata": {
        "id": "JnbcyCloQsVA"
      },
      "execution_count": 63,
      "outputs": []
    },
    {
      "cell_type": "code",
      "source": [
        "data = Data(x=node_features, edge_index=edge_index_mapped, y=labels)"
      ],
      "metadata": {
        "id": "xIs0ORFwQsXq"
      },
      "execution_count": 64,
      "outputs": []
    },
    {
      "cell_type": "code",
      "source": [
        "# Division des données en train et validation\n",
        "n_samples = edge_index_mapped.size(1)\n",
        "n_train = int(0.8 * n_samples)\n",
        "n_val = n_samples - n_train"
      ],
      "metadata": {
        "id": "Uwk2ShZAPJie"
      },
      "execution_count": 65,
      "outputs": []
    },
    {
      "cell_type": "code",
      "source": [
        "train_indices = torch.randperm(n_samples)[:n_train]\n",
        "val_indices = torch.randperm(n_samples)[n_train:n_train+n_val]"
      ],
      "metadata": {
        "id": "4CkWVrxnQ-JD"
      },
      "execution_count": 66,
      "outputs": []
    },
    {
      "cell_type": "code",
      "source": [
        "train_mask = torch.zeros(n_samples, dtype=torch.bool)\n",
        "val_mask = torch.zeros(n_samples, dtype=torch.bool)\n",
        "train_mask[train_indices] = True\n",
        "val_mask[val_indices] = True"
      ],
      "metadata": {
        "id": "55AKjuipQ-MC"
      },
      "execution_count": 67,
      "outputs": []
    },
    {
      "cell_type": "code",
      "source": [
        "# Définition du modèle GNN\n",
        "class LinkPredictionGNN(nn.Module):\n",
        "    def __init__(self, in_channels, hidden_channels, out_channels):\n",
        "        super(LinkPredictionGNN, self).__init__()\n",
        "        self.conv1 = GCNConv(in_channels, hidden_channels)\n",
        "        self.conv2 = GCNConv(hidden_channels, out_channels)\n",
        "        self.classifier = nn.Sequential(\n",
        "            nn.Linear(out_channels * 2, hidden_channels),\n",
        "            nn.ReLU(),\n",
        "            nn.Dropout(0.5),\n",
        "            nn.Linear(hidden_channels, 1)\n",
        "        )\n",
        "\n",
        "    def encode(self, x, edge_index):\n",
        "        # Premier layer de convolution\n",
        "        x = self.conv1(x, edge_index)\n",
        "        x = F.relu(x)\n",
        "        x = F.dropout(x, p=0.5, training=self.training)\n",
        "\n",
        "        # Second layer de convolution\n",
        "        x = self.conv2(x, edge_index)\n",
        "        return x\n",
        "\n",
        "    def decode(self, z, edge_index):\n",
        "        # Extraction des embeddings des nœuds source et destination\n",
        "        src_idx = edge_index[0]\n",
        "        dst_idx = edge_index[1]\n",
        "\n",
        "        src_emb = z[src_idx]\n",
        "        dst_emb = z[dst_idx]\n",
        "\n",
        "        # Concaténation des embeddings\n",
        "        x = torch.cat([src_emb, dst_emb], dim=1)\n",
        "\n",
        "        # Classification finale\n",
        "        x = self.classifier(x)\n",
        "        return torch.sigmoid(x).squeeze(1)\n",
        "\n",
        "    def forward(self, x, edge_index):\n",
        "        # Encodage des nœuds\n",
        "        z = self.encode(x, edge_index)\n",
        "\n",
        "        # Décodage et prédiction des liens\n",
        "        out = self.decode(z, edge_index)\n",
        "        return out"
      ],
      "metadata": {
        "id": "IVquchpiQ-O5"
      },
      "execution_count": 68,
      "outputs": []
    },
    {
      "cell_type": "code",
      "source": [
        "# Initialisation du modèle\n",
        "model = LinkPredictionGNN(\n",
        "    in_channels=node_features.size(1),\n",
        "    hidden_channels=64,\n",
        "    out_channels=32\n",
        ").to(device)"
      ],
      "metadata": {
        "id": "YtOGYsH0RLex"
      },
      "execution_count": 69,
      "outputs": []
    },
    {
      "cell_type": "code",
      "source": [
        "# Optimisateur et fonction de perte\n",
        "optimizer = torch.optim.Adam(model.parameters(), lr=0.01)\n",
        "criterion = torch.nn.BCELoss()"
      ],
      "metadata": {
        "id": "JTGa3EyURLhu"
      },
      "execution_count": 70,
      "outputs": []
    },
    {
      "cell_type": "code",
      "source": [
        "# Préparation pour l'entraînement\n",
        "train_data = Data(\n",
        "    x=node_features.to(device),\n",
        "    edge_index=edge_index_mapped.to(device),\n",
        "    y=labels.to(device)\n",
        ")"
      ],
      "metadata": {
        "id": "fMGTR6b7RLk4"
      },
      "execution_count": 71,
      "outputs": []
    },
    {
      "cell_type": "code",
      "source": [
        "# Fonction d'entraînement\n",
        "def train(data, train_mask):\n",
        "    model.train()\n",
        "    optimizer.zero_grad()\n",
        "\n",
        "    # Forward pass\n",
        "    pred = model(data.x, data.edge_index)\n",
        "\n",
        "    # Calcul de la perte sur les données d'entraînement\n",
        "    loss = criterion(pred[train_mask], data.y[train_mask])\n",
        "\n",
        "    # Calcul de l'accuracy sur les données d'entraînement\n",
        "    pred_binary = (pred[train_mask] > 0.5).float()\n",
        "    accuracy = (pred_binary == data.y[train_mask]).sum().item() / train_mask.sum().item()\n",
        "\n",
        "    # Backward pass\n",
        "    loss.backward()\n",
        "    optimizer.step()\n",
        "\n",
        "    return loss.item(), accuracy"
      ],
      "metadata": {
        "id": "9yGbMaICRLnR"
      },
      "execution_count": 72,
      "outputs": []
    },
    {
      "cell_type": "code",
      "source": [
        "# Fonction d'évaluation\n",
        "def evaluate(data, mask):\n",
        "    model.eval()\n",
        "    with torch.no_grad():\n",
        "        pred = model(data.x, data.edge_index)\n",
        "        loss = criterion(pred[mask], data.y[mask])\n",
        "\n",
        "        # Calcul des métriques\n",
        "        pred_binary = (pred[mask] > 0.5).float()\n",
        "        accuracy = (pred_binary == data.y[mask]).sum().item() / mask.sum().item()\n",
        "\n",
        "        # F1 score\n",
        "        f1 = f1_score(data.y[mask].cpu().numpy(), pred_binary.cpu().numpy())\n",
        "\n",
        "        # AUC\n",
        "        try:\n",
        "            auc = roc_auc_score(data.y[mask].cpu().numpy(), pred[mask].cpu().numpy())\n",
        "        except:\n",
        "            auc = 0.5\n",
        "\n",
        "    return loss.item(), accuracy, f1, auc"
      ],
      "metadata": {
        "id": "6AB17YE8RLqQ"
      },
      "execution_count": 73,
      "outputs": []
    },
    {
      "cell_type": "code",
      "source": [
        "# Entraînement du modèle\n",
        "epochs = 50\n",
        "best_val_auc = 0\n",
        "best_model_path = \"/content/drive/MyDrive/Colab Notebooks/Tutoriel-1-dataset-facebook/best_gnn_model.pt\"\n",
        "\n",
        "print(\"\\nDémarrage de l'entraînement...\")\n",
        "train_losses = []\n",
        "train_accs = []\n",
        "val_losses = []\n",
        "val_accs = []\n",
        "val_f1s = []\n",
        "val_aucs = []\n",
        "\n",
        "# Création d'un DataFrame pour stocker les métriques\n",
        "metrics_data = []\n",
        "\n",
        "for epoch in tqdm(range(epochs)):\n",
        "    # Entraînement\n",
        "    train_loss, train_acc = train(train_data, train_mask)\n",
        "    train_losses.append(train_loss)\n",
        "    train_accs.append(train_acc)\n",
        "\n",
        "    # Évaluation\n",
        "    val_loss, val_acc, val_f1, val_auc = evaluate(train_data, val_mask)\n",
        "    val_losses.append(val_loss)\n",
        "    val_accs.append(val_acc)\n",
        "    val_f1s.append(val_f1)\n",
        "    val_aucs.append(val_auc)\n",
        "\n",
        "    # Ajout des métriques au DataFrame\n",
        "    metrics_data.append({\n",
        "        'Epoch': epoch + 1,\n",
        "        'Train Loss': train_loss,\n",
        "        'Train Acc': train_acc,\n",
        "        'Val Loss': val_loss,\n",
        "        'Val Acc': val_acc,\n",
        "        'Val F1': val_f1,\n",
        "        'Val AUC': val_auc\n",
        "    })\n",
        "\n",
        "    # Affichage des résultats\n",
        "    if (epoch + 1) % 5 == 0:\n",
        "        print(f'Epoch: {epoch+1:02d}, '\n",
        "              f'Train Loss: {train_loss:.4f}, '\n",
        "              f'Train Acc: {train_acc:.4f}, '\n",
        "              f'Val Loss: {val_loss:.4f}, '\n",
        "              f'Val Acc: {val_acc:.4f}, '\n",
        "              f'Val F1: {val_f1:.4f}, '\n",
        "              f'Val AUC: {val_auc:.4f}')\n",
        "\n",
        "    # Sauvegarde du meilleur modèle\n",
        "    if val_auc > best_val_auc:\n",
        "        best_val_auc = val_auc\n",
        "        torch.save(model.state_dict(), best_model_path)\n",
        "\n",
        "# Création du DataFrame après la boucle\n",
        "metrics_df = pd.DataFrame(metrics_data)\n",
        "\n",
        "# Chargement du meilleur modèle\n",
        "model.load_state_dict(torch.load(best_model_path))"
      ],
      "metadata": {
        "colab": {
          "base_uri": "https://localhost:8080/",
          "height": 343,
          "referenced_widgets": [
            "0994b708743d41d89f3afbbc5c1e2b16",
            "3f18744f482f4deabffa84dd67bdc27a",
            "9feed409e7ee4d1da437fecbcea25a67",
            "0eed24cb11f54d51b2e991c28a4290a9",
            "8435413157e34be29cf42b815e0f13af",
            "a33cd8a904e04eb392400b231cbcbac4",
            "0e2858aed38541258e4643bba09f4708",
            "a2b8e49fe3de4b90808b62e173ebe97c",
            "bb846b17d4144236a1aa401a8c64f3d2",
            "cd8d137c190d48b6b3e94af6359231b5",
            "bd59d45362324cd091d9fd867324baf3"
          ]
        },
        "id": "SemKZ0iHQ-Ry",
        "outputId": "e1a23ca8-5dac-4777-8f2e-f2b7b8ae65e0"
      },
      "execution_count": 75,
      "outputs": [
        {
          "output_type": "stream",
          "name": "stdout",
          "text": [
            "\n",
            "Démarrage de l'entraînement...\n"
          ]
        },
        {
          "output_type": "display_data",
          "data": {
            "text/plain": [
              "  0%|          | 0/50 [00:00<?, ?it/s]"
            ],
            "application/vnd.jupyter.widget-view+json": {
              "version_major": 2,
              "version_minor": 0,
              "model_id": "0994b708743d41d89f3afbbc5c1e2b16"
            }
          },
          "metadata": {}
        },
        {
          "output_type": "stream",
          "name": "stdout",
          "text": [
            "Epoch: 05, Train Loss: 0.5527, Train Acc: 0.7387, Val Loss: 0.5426, Val Acc: 0.7417, Val F1: 0.7314, Val AUC: 0.8227\n",
            "Epoch: 10, Train Loss: 0.5335, Train Acc: 0.7499, Val Loss: 0.5278, Val Acc: 0.7509, Val F1: 0.7652, Val AUC: 0.8331\n",
            "Epoch: 15, Train Loss: 0.5216, Train Acc: 0.7515, Val Loss: 0.5114, Val Acc: 0.7513, Val F1: 0.7620, Val AUC: 0.8342\n",
            "Epoch: 20, Train Loss: 0.5142, Train Acc: 0.7523, Val Loss: 0.5044, Val Acc: 0.7524, Val F1: 0.7706, Val AUC: 0.8371\n",
            "Epoch: 25, Train Loss: 0.5081, Train Acc: 0.7555, Val Loss: 0.4970, Val Acc: 0.7567, Val F1: 0.7716, Val AUC: 0.8400\n",
            "Epoch: 30, Train Loss: 0.5038, Train Acc: 0.7587, Val Loss: 0.4903, Val Acc: 0.7610, Val F1: 0.7746, Val AUC: 0.8437\n",
            "Epoch: 35, Train Loss: 0.4980, Train Acc: 0.7592, Val Loss: 0.4846, Val Acc: 0.7623, Val F1: 0.7765, Val AUC: 0.8462\n",
            "Epoch: 40, Train Loss: 0.4930, Train Acc: 0.7597, Val Loss: 0.4793, Val Acc: 0.7642, Val F1: 0.7800, Val AUC: 0.8501\n",
            "Epoch: 45, Train Loss: 0.4895, Train Acc: 0.7624, Val Loss: 0.4737, Val Acc: 0.7660, Val F1: 0.7798, Val AUC: 0.8523\n",
            "Epoch: 50, Train Loss: 0.4858, Train Acc: 0.7632, Val Loss: 0.4691, Val Acc: 0.7672, Val F1: 0.7800, Val AUC: 0.8549\n"
          ]
        },
        {
          "output_type": "stream",
          "name": "stderr",
          "text": [
            "<ipython-input-75-03c49519e18a>:60: FutureWarning: You are using `torch.load` with `weights_only=False` (the current default value), which uses the default pickle module implicitly. It is possible to construct malicious pickle data which will execute arbitrary code during unpickling (See https://github.com/pytorch/pytorch/blob/main/SECURITY.md#untrusted-models for more details). In a future release, the default value for `weights_only` will be flipped to `True`. This limits the functions that could be executed during unpickling. Arbitrary objects will no longer be allowed to be loaded via this mode unless they are explicitly allowlisted by the user via `torch.serialization.add_safe_globals`. We recommend you start setting `weights_only=True` for any use case where you don't have full control of the loaded file. Please open an issue on GitHub for any issues related to this experimental feature.\n",
            "  model.load_state_dict(torch.load(best_model_path))\n"
          ]
        },
        {
          "output_type": "execute_result",
          "data": {
            "text/plain": [
              "<All keys matched successfully>"
            ]
          },
          "metadata": {},
          "execution_count": 75
        }
      ]
    },
    {
      "cell_type": "code",
      "source": [
        "# Affichage du tableau des métriques\n",
        "print(\"\\nTableau des métriques d'entraînement:\")\n",
        "pd.set_option('display.max_rows', 10)  # Affiche seulement les 10 premières lignes par défaut\n",
        "print(metrics_df.to_string(index=False, float_format=lambda x: f\"{x:.4f}\"))"
      ],
      "metadata": {
        "colab": {
          "base_uri": "https://localhost:8080/"
        },
        "id": "CmcZmnqYVUEL",
        "outputId": "9a7fc013-2977-4437-ae74-824a6dd7e57f"
      },
      "execution_count": 76,
      "outputs": [
        {
          "output_type": "stream",
          "name": "stdout",
          "text": [
            "\n",
            "Tableau des métriques d'entraînement:\n",
            " Epoch  Train Loss  Train Acc  Val Loss  Val Acc  Val F1  Val AUC\n",
            "     1      0.6245     0.6189    0.5909   0.7376  0.7567   0.8190\n",
            "     2      0.5992     0.7319    0.5530   0.7407  0.7428   0.8193\n",
            "     3      0.5599     0.7411    0.5337   0.7397  0.7291   0.8200\n",
            "     4      0.5428     0.7387    0.5409   0.7383  0.7231   0.8211\n",
            "     5      0.5527     0.7387    0.5426   0.7417  0.7314   0.8227\n",
            "     6      0.5555     0.7415    0.5320   0.7439  0.7405   0.8245\n",
            "     7      0.5445     0.7452    0.5223   0.7460  0.7493   0.8268\n",
            "     8      0.5365     0.7474    0.5185   0.7472  0.7559   0.8300\n",
            "     9      0.5316     0.7483    0.5245   0.7497  0.7619   0.8325\n",
            "    10      0.5335     0.7499    0.5278   0.7509  0.7652   0.8331\n",
            "    11      0.5358     0.7489    0.5218   0.7502  0.7661   0.8338\n",
            "    12      0.5316     0.7498    0.5164   0.7499  0.7658   0.8336\n",
            "    13      0.5287     0.7501    0.5126   0.7503  0.7648   0.8334\n",
            "    14      0.5246     0.7497    0.5102   0.7504  0.7628   0.8337\n",
            "    15      0.5216     0.7515    0.5114   0.7513  0.7620   0.8342\n",
            "    16      0.5213     0.7519    0.5120   0.7519  0.7622   0.8347\n",
            "    17      0.5228     0.7524    0.5089   0.7514  0.7631   0.8350\n",
            "    18      0.5188     0.7526    0.5059   0.7519  0.7661   0.8353\n",
            "    19      0.5156     0.7523    0.5049   0.7516  0.7682   0.8360\n",
            "    20      0.5142     0.7523    0.5044   0.7524  0.7706   0.8371\n",
            "    21      0.5140     0.7517    0.5041   0.7531  0.7715   0.8386\n",
            "    22      0.5134     0.7527    0.5036   0.7547  0.7723   0.8396\n",
            "    23      0.5131     0.7537    0.5008   0.7553  0.7723   0.8400\n",
            "    24      0.5107     0.7550    0.4982   0.7558  0.7720   0.8399\n",
            "    25      0.5081     0.7555    0.4970   0.7567  0.7716   0.8400\n",
            "    26      0.5080     0.7560    0.4958   0.7587  0.7714   0.8406\n",
            "    27      0.5067     0.7568    0.4948   0.7605  0.7710   0.8415\n",
            "    28      0.5052     0.7579    0.4934   0.7614  0.7710   0.8424\n",
            "    29      0.5051     0.7583    0.4914   0.7615  0.7724   0.8431\n",
            "    30      0.5038     0.7587    0.4903   0.7610  0.7746   0.8437\n",
            "    31      0.5014     0.7591    0.4901   0.7605  0.7761   0.8443\n",
            "    32      0.4991     0.7582    0.4889   0.7610  0.7770   0.8452\n",
            "    33      0.5011     0.7578    0.4875   0.7617  0.7769   0.8460\n",
            "    34      0.4992     0.7591    0.4858   0.7625  0.7769   0.8463\n",
            "    35      0.4980     0.7592    0.4846   0.7623  0.7765   0.8462\n",
            "    36      0.4966     0.7586    0.4842   0.7621  0.7766   0.8462\n",
            "    37      0.4975     0.7589    0.4829   0.7624  0.7768   0.8470\n",
            "    38      0.4948     0.7605    0.4812   0.7631  0.7775   0.8484\n",
            "    39      0.4929     0.7603    0.4802   0.7641  0.7788   0.8495\n",
            "    40      0.4930     0.7597    0.4793   0.7642  0.7800   0.8501\n",
            "    41      0.4923     0.7603    0.4782   0.7641  0.7803   0.8505\n",
            "    42      0.4924     0.7614    0.4763   0.7659  0.7805   0.8512\n",
            "    43      0.4904     0.7620    0.4749   0.7669  0.7794   0.8521\n",
            "    44      0.4897     0.7622    0.4741   0.7669  0.7795   0.8523\n",
            "    45      0.4895     0.7624    0.4737   0.7660  0.7798   0.8523\n",
            "    46      0.4875     0.7631    0.4731   0.7659  0.7806   0.8530\n",
            "    47      0.4870     0.7630    0.4726   0.7664  0.7810   0.8540\n",
            "    48      0.4872     0.7627    0.4718   0.7671  0.7815   0.8545\n",
            "    49      0.4860     0.7642    0.4705   0.7671  0.7809   0.8546\n",
            "    50      0.4858     0.7632    0.4691   0.7672  0.7800   0.8549\n"
          ]
        }
      ]
    },
    {
      "cell_type": "code",
      "source": [],
      "metadata": {
        "id": "IT8m0SK9Rk4Y"
      },
      "execution_count": null,
      "outputs": []
    },
    {
      "cell_type": "code",
      "source": [
        "# Visualisation des courbes d'apprentissage\n",
        "plt.figure(figsize=(16, 8))\n",
        "\n",
        "# Plot de la perte\n",
        "plt.subplot(2, 2, 1)\n",
        "plt.plot(train_losses, label='Train Loss')\n",
        "plt.plot(val_losses, label='Validation Loss')\n",
        "plt.xlabel('Epoch')\n",
        "plt.ylabel('Loss')\n",
        "plt.title('Loss Curves')\n",
        "plt.legend()\n",
        "\n",
        "# Plot de l'accuracy\n",
        "plt.subplot(2, 2, 2)\n",
        "plt.plot(train_accs, label='Train Accuracy')\n",
        "plt.plot(val_accs, label='Validation Accuracy')\n",
        "plt.xlabel('Epoch')\n",
        "plt.ylabel('Accuracy')\n",
        "plt.title('Accuracy Curves')\n",
        "plt.legend()\n",
        "\n",
        "# Plot du F1 score\n",
        "plt.subplot(2, 2, 3)\n",
        "plt.plot(val_f1s, label='Validation F1 Score')\n",
        "plt.xlabel('Epoch')\n",
        "plt.ylabel('F1 Score')\n",
        "plt.title('F1 Score Curve')\n",
        "plt.legend()\n",
        "\n",
        "# Plot de l'AUC\n",
        "plt.subplot(2, 2, 4)\n",
        "plt.plot(val_aucs, label='Validation AUC')\n",
        "plt.xlabel('Epoch')\n",
        "plt.ylabel('AUC')\n",
        "plt.title('AUC Curve')\n",
        "plt.legend()\n",
        "\n",
        "plt.tight_layout()\n",
        "plt.savefig('training_metrics.png')\n",
        "plt.show()"
      ],
      "metadata": {
        "colab": {
          "base_uri": "https://localhost:8080/",
          "height": 593
        },
        "id": "kurAdxEpRk-k",
        "outputId": "1403530b-44ae-404c-b1b4-ed0cba543a0f"
      },
      "execution_count": 77,
      "outputs": [
        {
          "output_type": "display_data",
          "data": {
            "text/plain": [
              "<Figure size 1600x800 with 4 Axes>"
            ],
            "image/png": "[encoded data removed]"
          },
          "metadata": {}
        }
      ]
    },
    {
      "cell_type": "code",
      "source": [
        "# Fonction pour générer les recommandations (optimisée pour n'utiliser qu'un sous-ensemble)\n",
        "def generate_recommendations(model, node_features, test_nodes, node_mapping, inv_node_mapping, G, top_k=10, max_test_nodes=1000):\n",
        "    \"\"\"\n",
        "    Génère des recommandations pour un sous-ensemble des nœuds de test\n",
        "    pour éviter des temps de calcul trop longs\n",
        "    \"\"\"\n",
        "    model.eval()\n",
        "    recommendations = {}\n",
        "\n",
        "    # Limiter le nombre de nœuds test si nécessaire\n",
        "    if len(test_nodes) > max_test_nodes:\n",
        "        print(f\"Limitation à {max_test_nodes} nœuds pour les recommandations (sur {len(test_nodes)} au total)\")\n",
        "        test_nodes = np.random.choice(test_nodes, max_test_nodes, replace=False)\n",
        "\n",
        "    for source_node in tqdm(test_nodes):\n",
        "        if source_node not in node_mapping:\n",
        "            print(f\"Source node {source_node} not in node mapping\")\n",
        "            continue\n",
        "\n",
        "        source_idx = node_mapping[source_node]\n",
        "\n",
        "        # Candidats: tous les nœuds qui ne sont pas déjà connectés à source_node\n",
        "        candidates = []\n",
        "        scores = []\n",
        "\n",
        "        # On peut limiter les candidats à un sous-ensemble pour des raisons de performance\n",
        "        sample_size = min(1000, len(node_mapping))\n",
        "        candidate_indices = random.sample(list(inv_node_mapping.keys()), sample_size)\n",
        "\n",
        "        for candidate_idx in candidate_indices:\n",
        "            candidate_node = inv_node_mapping[candidate_idx]\n",
        "\n",
        "            # On ignore si c'est la source elle-même ou s'il y a déjà un lien\n",
        "            if candidate_node == source_node or G.has_edge(source_node, candidate_node):\n",
        "                continue\n",
        "\n",
        "            candidates.append(candidate_node)\n",
        "\n",
        "            # Création d'une paire pour l'évaluation\n",
        "            edge = torch.tensor([[source_idx, candidate_idx]], dtype=torch.long).t().to(device)\n",
        "\n",
        "            # Prédiction\n",
        "            with torch.no_grad():\n",
        "                # On utilise les embeddings pré-calculés pour les nœuds\n",
        "                embedding = model.encode(node_features.to(device), edge_index_mapped.to(device))\n",
        "                score = model.decode(embedding, edge)\n",
        "\n",
        "            scores.append(score.item())\n",
        "\n",
        "        # Tri des candidats en fonction des scores\n",
        "        if candidates:\n",
        "            candidate_scores = list(zip(candidates, scores))\n",
        "            candidate_scores.sort(key=lambda x: x[1], reverse=True)\n",
        "\n",
        "            # Sélection des top-k candidats\n",
        "            top_candidates = [candidate for candidate, _ in candidate_scores[:top_k]]\n",
        "            recommendations[source_node] = top_candidates\n",
        "        else:\n",
        "            recommendations[source_node] = []\n",
        "\n",
        "    return recommendations"
      ],
      "metadata": {
        "id": "kIAGNQisPJk_"
      },
      "execution_count": 78,
      "outputs": []
    },
    {
      "cell_type": "code",
      "source": [
        "# Génération des recommandations pour un sous-ensemble des nœuds de test\n",
        "print(\"\\nGénération des recommandations pour un sous-ensemble des nœuds de test...\")\n",
        "test_nodes = test_df['source_node'].values\n",
        "recommendations = generate_recommendations(\n",
        "    model,\n",
        "    node_features,\n",
        "    test_nodes,\n",
        "    node_mapping,\n",
        "    inv_node_mapping,\n",
        "    G,\n",
        "    top_k=10,\n",
        "    max_test_nodes=5  # Limitons à 1000 nœuds pour un calcul rapide\n",
        ")\n",
        "\n"
      ],
      "metadata": {
        "colab": {
          "base_uri": "https://localhost:8080/",
          "height": 434,
          "referenced_widgets": [
            "837b4eefdd8247b2b2304c0c123ff62d",
            "476dc8f593f24d9f91b61706362bf7a6",
            "bdbb86720ceb48b0b0695dcc00272591",
            "c15b52d866f7476c80ff99ade7feeb56",
            "8710c9e60f1c4cbda467e8abab1654b9",
            "89668c8c388e4b269cfa2f2a690260fe",
            "7069440296da45bc905b180ff462ef51",
            "f6f30c2f4e574c5a91c6943adc2e5b70",
            "64d907f50b1044b4b6f2caf098755eb4",
            "98f92eae17cb4d10aaeb3396a8e85190",
            "6b362ccf5746414996739a3329263f57"
          ]
        },
        "id": "2sJsGBmISNUK",
        "outputId": "4d227797-cf1e-476a-db01-658fec5233ad"
      },
      "execution_count": 80,
      "outputs": [
        {
          "output_type": "stream",
          "name": "stdout",
          "text": [
            "\n",
            "Génération des recommandations pour un sous-ensemble des nœuds de test...\n",
            "Limitation à 5 nœuds pour les recommandations (sur 262588 au total)\n"
          ]
        },
        {
          "output_type": "display_data",
          "data": {
            "text/plain": [
              "  0%|          | 0/5 [00:00<?, ?it/s]"
            ],
            "application/vnd.jupyter.widget-view+json": {
              "version_major": 2,
              "version_minor": 0,
              "model_id": "837b4eefdd8247b2b2304c0c123ff62d"
            }
          },
          "metadata": {}
        },
        {
          "output_type": "error",
          "ename": "AttributeError",
          "evalue": "'DataFrame' object has no attribute 'append'",
          "traceback": [
            "\u001b[0;31m---------------------------------------------------------------------------\u001b[0m",
            "\u001b[0;31mAttributeError\u001b[0m                            Traceback (most recent call last)",
            "\u001b[0;32m<ipython-input-80-5edb1d5749d6>\u001b[0m in \u001b[0;36m<cell line: 0>\u001b[0;34m()\u001b[0m\n\u001b[1;32m     17\u001b[0m \u001b[0;34m\u001b[0m\u001b[0m\n\u001b[1;32m     18\u001b[0m \u001b[0;32mfor\u001b[0m \u001b[0msource_node\u001b[0m\u001b[0;34m,\u001b[0m \u001b[0mrecommended_nodes\u001b[0m \u001b[0;32min\u001b[0m \u001b[0mrecommendations\u001b[0m\u001b[0;34m.\u001b[0m\u001b[0mitems\u001b[0m\u001b[0;34m(\u001b[0m\u001b[0;34m)\u001b[0m\u001b[0;34m:\u001b[0m\u001b[0;34m\u001b[0m\u001b[0;34m\u001b[0m\u001b[0m\n\u001b[0;32m---> 19\u001b[0;31m     result_df = result_df.append({\n\u001b[0m\u001b[1;32m     20\u001b[0m         \u001b[0;34m'source_node'\u001b[0m\u001b[0;34m:\u001b[0m \u001b[0msource_node\u001b[0m\u001b[0;34m,\u001b[0m\u001b[0;34m\u001b[0m\u001b[0;34m\u001b[0m\u001b[0m\n\u001b[1;32m     21\u001b[0m         \u001b[0;34m'recommended_nodes'\u001b[0m\u001b[0;34m:\u001b[0m \u001b[0;34m', '\u001b[0m\u001b[0;34m.\u001b[0m\u001b[0mjoin\u001b[0m\u001b[0;34m(\u001b[0m\u001b[0mmap\u001b[0m\u001b[0;34m(\u001b[0m\u001b[0mstr\u001b[0m\u001b[0;34m,\u001b[0m \u001b[0mrecommended_nodes\u001b[0m\u001b[0;34m)\u001b[0m\u001b[0;34m)\u001b[0m\u001b[0;34m\u001b[0m\u001b[0;34m\u001b[0m\u001b[0m\n",
            "\u001b[0;32m/usr/local/lib/python3.11/dist-packages/pandas/core/generic.py\u001b[0m in \u001b[0;36m__getattr__\u001b[0;34m(self, name)\u001b[0m\n\u001b[1;32m   6297\u001b[0m         ):\n\u001b[1;32m   6298\u001b[0m             \u001b[0;32mreturn\u001b[0m \u001b[0mself\u001b[0m\u001b[0;34m[\u001b[0m\u001b[0mname\u001b[0m\u001b[0;34m]\u001b[0m\u001b[0;34m\u001b[0m\u001b[0;34m\u001b[0m\u001b[0m\n\u001b[0;32m-> 6299\u001b[0;31m         \u001b[0;32mreturn\u001b[0m \u001b[0mobject\u001b[0m\u001b[0;34m.\u001b[0m\u001b[0m__getattribute__\u001b[0m\u001b[0;34m(\u001b[0m\u001b[0mself\u001b[0m\u001b[0;34m,\u001b[0m \u001b[0mname\u001b[0m\u001b[0;34m)\u001b[0m\u001b[0;34m\u001b[0m\u001b[0;34m\u001b[0m\u001b[0m\n\u001b[0m\u001b[1;32m   6300\u001b[0m \u001b[0;34m\u001b[0m\u001b[0m\n\u001b[1;32m   6301\u001b[0m     \u001b[0;34m@\u001b[0m\u001b[0mfinal\u001b[0m\u001b[0;34m\u001b[0m\u001b[0;34m\u001b[0m\u001b[0m\n",
            "\u001b[0;31mAttributeError\u001b[0m: 'DataFrame' object has no attribute 'append'"
          ]
        }
      ]
    },
    {
      "cell_type": "code",
      "source": [
        "# Sauvegarde des recommandations dans un fichier CSV\n",
        "result_df = pd.DataFrame(columns=['source_node', 'recommended_nodes'])\n",
        "\n",
        "for source_node, recommended_nodes in recommendations.items():\n",
        "  result_df = pd.concat([result_df, pd.DataFrame([{\n",
        "      'source_node': source_node,\n",
        "      'recommended_nodes': ', '.join(map(str, recommended_nodes))\n",
        "  }])], ignore_index=True)\n",
        "\n",
        "\n",
        "result_df.to_csv('/content/drive/MyDrive/Colab Notebooks/Tutoriel-1-dataset-facebook/gnn_recommendations_sample.csv', index=False)\n",
        "print(\"\\nRecommandations sauvegardées dans 'gnn_recommendations_sample.csv'\")\n",
        "\n",
        "# Analyse des recommandations\n",
        "print(\"\\nStatistiques des recommandations:\")\n",
        "recommendation_counts = [len(recs) for recs in recommendations.values()]\n",
        "print(f\"Nombre moyen de recommandations par nœud: {np.mean(recommendation_counts):.2f}\")\n",
        "print(f\"Nombre médian de recommandations par nœud: {np.median(recommendation_counts):.0f}\")\n",
        "print(f\"Nombre maximum de recommandations par nœud: {np.max(recommendation_counts)}\")\n",
        "print(f\"Nombre minimum de recommandations par nœud: {np.min(recommendation_counts)}\")\n",
        "\n",
        "# Exemple de recommandations\n",
        "print(\"\\nExemple de recommandations:\")\n",
        "sample_nodes = random.sample(list(recommendations.keys()), min(5, len(recommendations)))\n",
        "for node in sample_nodes:\n",
        "    print(f\"Pour le nœud {node}, nous recommandons: {recommendations[node]}\")\n",
        "\n",
        "# Visualisation plus détaillée des métriques pour le meilleur modèle\n",
        "print(\"\\nMétriques du meilleur modèle:\")\n",
        "best_metrics = metrics_df.iloc[metrics_df['Val AUC'].idxmax()]\n",
        "print(f\"Meilleur modèle à l'epoch {best_metrics['Epoch']}:\")\n",
        "print(f\"  - Train Loss: {best_metrics['Train Loss']:.4f}\")\n",
        "print(f\"  - Train Accuracy: {best_metrics['Train Acc']:.4f}\")\n",
        "print(f\"  - Validation Loss: {best_metrics['Val Loss']:.4f}\")\n",
        "print(f\"  - Validation Accuracy: {best_metrics['Val Acc']:.4f}\")\n",
        "print(f\"  - Validation F1: {best_metrics['Val F1']:.4f}\")\n",
        "print(f\"  - Validation AUC: {best_metrics['Val AUC']:.4f}\")\n",
        "\n",
        "print(\"\\nTerminé!\")"
      ],
      "metadata": {
        "colab": {
          "base_uri": "https://localhost:8080/"
        },
        "id": "-I5ntp_5dUKk",
        "outputId": "038b803f-e7e3-4477-a7a4-630c3aebc2ec"
      },
      "execution_count": 83,
      "outputs": [
        {
          "output_type": "stream",
          "name": "stdout",
          "text": [
            "\n",
            "Recommandations sauvegardées dans 'gnn_recommendations_sample.csv'\n",
            "\n",
            "Statistiques des recommandations:\n",
            "Nombre moyen de recommandations par nœud: 10.00\n",
            "Nombre médian de recommandations par nœud: 10\n",
            "Nombre maximum de recommandations par nœud: 10\n",
            "Nombre minimum de recommandations par nœud: 10\n",
            "\n",
            "Exemple de recommandations:\n",
            "Pour le nœud 1807225, nous recommandons: [168339, 1361901, 1326080, 1307459, 18610, 547241, 140342, 788880, 377789, 1783195]\n",
            "Pour le nœud 1016960, nous recommandons: [1768449, 805743, 1468345, 1546878, 1294162, 1048435, 567625, 1505380, 1627998, 1307881]\n",
            "Pour le nœud 381195, nous recommandons: [22222, 386500, 530058, 521805, 1365755, 692518, 1472729, 38372, 1798470, 745153]\n",
            "Pour le nœud 1418022, nous recommandons: [434884, 1303864, 84885, 1372733, 1104273, 1314472, 1681624, 1412049, 20430, 1377277]\n",
            "Pour le nœud 685656, nous recommandons: [1857141, 1230946, 106232, 1196605, 1838001, 311184, 109045, 179513, 779078, 1394441]\n",
            "\n",
            "Métriques du meilleur modèle:\n",
            "Meilleur modèle à l'epoch 50.0:\n",
            "  - Train Loss: 0.4858\n",
            "  - Train Accuracy: 0.7632\n",
            "  - Validation Loss: 0.4691\n",
            "  - Validation Accuracy: 0.7672\n",
            "  - Validation F1: 0.7800\n",
            "  - Validation AUC: 0.8549\n",
            "\n",
            "Terminé!\n"
          ]
        }
      ]
    },
    {
      "cell_type": "code",
      "source": [],
      "metadata": {
        "id": "WX_8ih0lSNZ5"
      },
      "execution_count": null,
      "outputs": []
    },
    {
      "cell_type": "code",
      "source": [],
      "metadata": {
        "id": "8AyOyWo8SNc2"
      },
      "execution_count": null,
      "outputs": []
    }
  ]
}